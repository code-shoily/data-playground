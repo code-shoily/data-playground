{
 "metadata": {
  "name": "\u09aa\u09be\u09a8\u09cd\u09a1\u09be\u09b8 \u09aa\u09b0\u09bf\u099a\u09bf\u09a4\u09bf \u09e8"
 },
 "nbformat": 3,
 "nbformat_minor": 0,
 "worksheets": [
  {
   "cells": [
    {
     "cell_type": "markdown",
     "metadata": {},
     "source": [
      "\u0986\u09ae\u09be\u09b0 \u0986\u0997\u09c7\u09b0 [\u09aa\u09cb\u09b8\u09cd\u099f\u09c7](http://goo.gl/4QpoJu) \u0986\u09ae\u09bf \u09aa\u09be\u09a8\u09cd\u09a1\u09be\u09b8\u09c7\u09b0 \u09ac\u09c7\u09b8\u09bf\u0995 \u09aa\u09b0\u09bf\u099a\u09bf\u09a4\u09bf \u098f\u09ac\u0982 \u098f\u09b0 \u098f\u0995\u09ae\u09be\u09a4\u09cd\u09b0\u09bf\u0995 \u09a1\u09be\u099f\u09be \u09b8\u09cd\u099f\u09cd\u09b0\u09be\u0995\u099a\u09be\u09b0 \u09b8\u09bf\u09b0\u09bf\u099c \u09a8\u09bf\u09df\u09c7 \u0995\u09a5\u09be \u09ac\u09b2\u09c7\u099b\u09bf\u0964 \u098f\u0996\u09a8 \u0986\u09ae\u09bf \u09ae\u09be\u09a4\u09cd\u09b0\u09be \u09ac\u09be\u09dc\u09bf\u09df\u09c7 \u09a6\u09bf\u09ac \u0993 \u0986\u09ae\u09be\u09a6\u09c7\u09b0 \u098f\u0996\u09a8\u0995\u09be\u09b0 \u099f\u09aa\u09bf\u0995 \u09b9\u09ac\u09c7 \u09a1\u09be\u099f\u09be\u09ab\u09cd\u09b0\u09c7\u09ae\u0964\n",
      "\n",
      "\u09a1\u09be\u099f\u09be\u09ab\u09cd\u09b0\u09c7\u09ae \u09b9\u09b2 \u09aa\u09be\u09a8\u09cd\u09a1\u09be\u09b8\u09c7\u09b0 \u09a6\u09cd\u09ac\u09bf\u09ae\u09be\u09a4\u09cd\u09b0\u09bf\u0995 \u09a1\u09be\u099f\u09be \u09b8\u09cd\u099f\u09cd\u09b0\u09be\u0995\u099a\u09be\u09b0\u0964 \u09b0\u09cb \u0993 \u0995\u09b2\u09be\u09ae \u09a6\u09c1\u0987 \u09ac\u09b0\u09be\u09ac\u09b0 \u0986\u09aa\u09a8\u09bf \u0987\u09a8\u09a1\u09c7\u0995\u09cd\u09b8 \u0995\u09b0\u09a4\u09c7 \u09aa\u09be\u09b0\u09ac\u09c7\u09a8 \u0986\u09b0 \u09b8\u09b0\u09cd\u099f\u09bf\u0982, \u09b8\u09be\u09b0\u099a\u09bf\u0982, \u0997\u09cd\u09b0\u09c1\u09aa\u09bf\u0982 \u0987\u09a4\u09cd\u09af\u09be\u09a6\u09bf \u0995\u09b0\u09be \u09af\u09be\u09ac\u09c7\u0964 \u09aa\u09cd\u09b2\u099f\u09bf\u0982 \u09a4\u09cb \u0986\u099b\u09c7\u0987\u0964 \u09ac\u09b2\u09a4\u09c7 \u09aa\u09be\u09b0\u09c7\u09a8, \u09aa\u09be\u0987\u09a5\u09a8\u09c7\u09b0 \u09ad\u09bf\u09a4\u09b0 \u098f\u0995\u09cd\u09b8\u09c7\u09b2 \u099f\u09be\u0987\u09aa \u0995\u09be\u099c \u0995\u09b0\u09a4\u09c7 \u09aa\u09be\u09b0\u09ac\u09c7\u09a8, \u09aa\u09cd\u09b0\u09cb\u0997\u09cd\u09b0\u09be\u09ae\u09c7\u099f\u09bf\u0995\u09be\u09b2\u09c0\u0964 (\u0985\u09a8\u09c7\u0995\u09c7 \u09ac\u09b2\u09c7 \u098f\u099f\u09bf R \u098f\u09b0 data.frame \u098f\u09b0 \u09ae\u09a4 \u0995\u09bf\u09a8\u09cd\u09a4\u09c1 \u0986\u09ae\u09bf R \u09aa\u09be\u09b0\u09bf \u09a8\u09be \u09a4\u09cb \u09a4\u09be \u09ac\u09b2\u09a4\u09c7 \u09aa\u09be\u09b0\u099b\u09bf \u09a8\u09be)\u0964"
     ]
    },
    {
     "cell_type": "code",
     "collapsed": false,
     "input": [
      "import numpy as np\n",
      "import matplotlib.pyplot as plt\n",
      "import pandas as pd"
     ],
     "language": "python",
     "metadata": {},
     "outputs": [],
     "prompt_number": 1
    },
    {
     "cell_type": "code",
     "collapsed": false,
     "input": [
      "# \u09a6\u09cd\u09ac\u09bf\u09ae\u09be\u09a4\u09cd\u09b0\u09bf\u0995 \u0985\u09cd\u09af\u09be\u09b0\u09c7 (\u0985\u09a5\u09ac\u09be \u09b2\u09bf\u09b8\u09cd\u099f\u09c7\u09b0 \u09ad\u09bf\u09a4\u09b0 \u09b2\u09bf\u09b8\u09cd\u099f) \u09a6\u09bf\u09df\u09c7 \u0986\u09ae\u09b0\u09be \u09a1\u09be\u099f\u09be\u09ab\u09cd\u09b0\u09c7\u09ae \u0987\u09a8\u09bf\u09b8\u09bf\u09df\u09be\u09b2\u09be\u0987\u099c \u0995\u09b0\u09a4\u09c7 \u09aa\u09be\u09b0\u09bf\u0964 \n",
      "fake_2d_data = np.random.randn(25).reshape(5, 5)\n",
      "df = pd.DataFrame(fake_2d_data, \n",
      "                  index=[\"alpha\", \"beta\", \"gamma\", \"delta\", \"epsilon\"],\n",
      "                  columns=[\"A\", \"B\", \"C\", \"D\", \"E\"])\n",
      "df.plot(kind=\"barh\", stacked=True)"
     ],
     "language": "python",
     "metadata": {},
     "outputs": [
      {
       "output_type": "pyout",
       "prompt_number": 15,
       "text": [
        "<matplotlib.axes.AxesSubplot at 0xb9c0b6c>"
       ]
      },
      {
       "output_type": "display_data",
       "png": "[encoded data removed]"
      }
     ],
     "prompt_number": 15
    },
    {
     "cell_type": "markdown",
     "metadata": {},
     "source": [
      "\u0986\u09ae\u09b0\u09be \u0989\u09aa\u09b0\u09c7\u09b0 \u09a1\u09be\u099f\u09be\u09ab\u09cd\u09b0\u09c7\u09ae\u09c7\u09b0 \u0985\u0995\u09cd\u09b7 \u0998\u09c1\u09b0\u09be\u09a4\u09c7 \u09aa\u09be\u09b0\u09bf \u099f\u09cd\u09b0\u09be\u09a8\u09cd\u09b8\u09aa\u09cb\u099c\u09c7\u09b0 \u09ae\u09be\u09a7\u09cd\u09af\u09ae\u09c7\u0964"
     ]
    },
    {
     "cell_type": "code",
     "collapsed": false,
     "input": [
      "df_t = df.T\n",
      "df_t.plot(kind='barh', stacked=True)"
     ],
     "language": "python",
     "metadata": {},
     "outputs": [
      {
       "output_type": "pyout",
       "prompt_number": 16,
       "text": [
        "<matplotlib.axes.AxesSubplot at 0xb9f70ac>"
       ]
      },
      {
       "output_type": "display_data",
       "png": "[encoded data removed]"
      }
     ],
     "prompt_number": 16
    },
    {
     "cell_type": "markdown",
     "metadata": {},
     "source": [
      "\u09af\u0996\u09a8 \u0986\u0987\u09aa\u09be\u0987\u09a5\u09a8 \u09a8\u09cb\u099f\u09ac\u09c1\u0995\u09c7 \u0995\u09be\u099c \u0995\u09b0\u09be \u09b9\u09ac\u09c7 \u09a4\u0996\u09a8 \u09a8\u09bf\u099a\u09c7\u09b0 \u0995\u09cb\u09a1 \u09a6\u09bf\u09df\u09c7 \u09b8\u09c1\u09a8\u09cd\u09a6\u09b0\u09ad\u09be\u09ac\u09c7 \u098f\u0987\u099a\u099f\u09bf\u098f\u09ae\u098f\u09b2 \u099f\u09c7\u09ac\u09cd\u09b2 \u09aa\u09cd\u09b0\u09bf\u09a8\u09cd\u099f \u0995\u09b0\u09be \u09af\u09be\u09df\u0964 "
     ]
    },
    {
     "cell_type": "code",
     "collapsed": false,
     "input": [
      "from IPython.core.display import HTML\n",
      "display(HTML(df.to_html()))"
     ],
     "language": "python",
     "metadata": {},
     "outputs": [
      {
       "html": [
        "<table border=\"1\" class=\"dataframe\">\n",
        "  <thead>\n",
        "    <tr style=\"text-align: right;\">\n",
        "      <th></th>\n",
        "      <th>A</th>\n",
        "      <th>B</th>\n",
        "      <th>C</th>\n",
        "      <th>D</th>\n",
        "      <th>E</th>\n",
        "    </tr>\n",
        "  </thead>\n",
        "  <tbody>\n",
        "    <tr>\n",
        "      <th>alpha</th>\n",
        "      <td> 0.960272</td>\n",
        "      <td>-0.826986</td>\n",
        "      <td>-0.466003</td>\n",
        "      <td>-2.164979</td>\n",
        "      <td>-0.515156</td>\n",
        "    </tr>\n",
        "    <tr>\n",
        "      <th>beta</th>\n",
        "      <td>-0.552988</td>\n",
        "      <td>-0.377938</td>\n",
        "      <td>-0.221681</td>\n",
        "      <td>-0.198346</td>\n",
        "      <td> 0.023387</td>\n",
        "    </tr>\n",
        "    <tr>\n",
        "      <th>gamma</th>\n",
        "      <td> 1.961069</td>\n",
        "      <td> 1.710462</td>\n",
        "      <td>-0.438632</td>\n",
        "      <td> 1.606601</td>\n",
        "      <td>-1.558174</td>\n",
        "    </tr>\n",
        "    <tr>\n",
        "      <th>delta</th>\n",
        "      <td>-0.674267</td>\n",
        "      <td> 0.091664</td>\n",
        "      <td> 0.262994</td>\n",
        "      <td>-1.355863</td>\n",
        "      <td>-1.075137</td>\n",
        "    </tr>\n",
        "    <tr>\n",
        "      <th>epsilon</th>\n",
        "      <td>-1.406780</td>\n",
        "      <td> 0.781694</td>\n",
        "      <td>-0.257940</td>\n",
        "      <td>-0.012960</td>\n",
        "      <td> 0.142525</td>\n",
        "    </tr>\n",
        "  </tbody>\n",
        "</table>"
       ],
       "output_type": "display_data",
       "text": [
        "<IPython.core.display.HTML at 0xbbf486c>"
       ]
      }
     ],
     "prompt_number": 18
    },
    {
     "cell_type": "code",
     "collapsed": false,
     "input": [
      "display(HTML(df_t.to_html()))"
     ],
     "language": "python",
     "metadata": {},
     "outputs": [
      {
       "html": [
        "<table border=\"1\" class=\"dataframe\">\n",
        "  <thead>\n",
        "    <tr style=\"text-align: right;\">\n",
        "      <th></th>\n",
        "      <th>alpha</th>\n",
        "      <th>beta</th>\n",
        "      <th>gamma</th>\n",
        "      <th>delta</th>\n",
        "      <th>epsilon</th>\n",
        "    </tr>\n",
        "  </thead>\n",
        "  <tbody>\n",
        "    <tr>\n",
        "      <th>A</th>\n",
        "      <td> 0.960272</td>\n",
        "      <td>-0.552988</td>\n",
        "      <td> 1.961069</td>\n",
        "      <td>-0.674267</td>\n",
        "      <td>-1.406780</td>\n",
        "    </tr>\n",
        "    <tr>\n",
        "      <th>B</th>\n",
        "      <td>-0.826986</td>\n",
        "      <td>-0.377938</td>\n",
        "      <td> 1.710462</td>\n",
        "      <td> 0.091664</td>\n",
        "      <td> 0.781694</td>\n",
        "    </tr>\n",
        "    <tr>\n",
        "      <th>C</th>\n",
        "      <td>-0.466003</td>\n",
        "      <td>-0.221681</td>\n",
        "      <td>-0.438632</td>\n",
        "      <td> 0.262994</td>\n",
        "      <td>-0.257940</td>\n",
        "    </tr>\n",
        "    <tr>\n",
        "      <th>D</th>\n",
        "      <td>-2.164979</td>\n",
        "      <td>-0.198346</td>\n",
        "      <td> 1.606601</td>\n",
        "      <td>-1.355863</td>\n",
        "      <td>-0.012960</td>\n",
        "    </tr>\n",
        "    <tr>\n",
        "      <th>E</th>\n",
        "      <td>-0.515156</td>\n",
        "      <td> 0.023387</td>\n",
        "      <td>-1.558174</td>\n",
        "      <td>-1.075137</td>\n",
        "      <td> 0.142525</td>\n",
        "    </tr>\n",
        "  </tbody>\n",
        "</table>"
       ],
       "output_type": "display_data",
       "text": [
        "<IPython.core.display.HTML at 0xbcf798c>"
       ]
      }
     ],
     "prompt_number": 19
    },
    {
     "cell_type": "markdown",
     "metadata": {},
     "source": [
      "JSON, CSV, HTML \u0987\u09a4\u09cd\u09af\u09be\u09a6\u09bf \u09ab\u09b0\u09ae\u09cd\u09af\u09be\u099f\u0993 \u09b0\u09df\u09c7\u099b\u09c7\u0964 \u09a8\u09bf\u099a\u09c7\u09b0 \u0995\u09cb\u09a1 \u09a5\u09c7\u0995\u09c7 \u09a6\u09c7\u0996\u09be \u09af\u09be\u09ac\u09c7\u0964 "
     ]
    },
    {
     "cell_type": "code",
     "collapsed": false,
     "input": [
      "print filter(lambda i: i.startswith(\"to_\"), dir(df))"
     ],
     "language": "python",
     "metadata": {},
     "outputs": [
      {
       "output_type": "stream",
       "stream": "stdout",
       "text": [
        "['to_clipboard', 'to_csv', 'to_dense', 'to_dict', 'to_excel', 'to_gbq', 'to_hdf', 'to_html', 'to_json', 'to_latex', 'to_msgpack', 'to_panel', 'to_period', 'to_pickle', 'to_records', 'to_sparse', 'to_sql', 'to_stata', 'to_string', 'to_timestamp', 'to_wide']\n"
       ]
      }
     ],
     "prompt_number": 30
    },
    {
     "cell_type": "markdown",
     "metadata": {},
     "source": [
      "\u0986\u09ae\u09b0\u09be \u0986\u09ae\u09be\u09a6\u09c7\u09b0 \u09a1\u09be\u099f\u09be \u09b8\u09ae\u09cd\u09ac\u09a8\u09cd\u09a7\u09bf\u09a4 \u09aa\u09b0\u09bf\u09b8\u0982\u0996\u09cd\u09af\u09be\u09a8 \u09aa\u09c7\u09a4\u09c7 \u09aa\u09be\u09b0\u09bf \u09a1\u09bf\u09b8\u09cd\u0995\u09cd\u09b0\u09be\u0987\u09ac \u09ab\u09be\u0982\u09b6\u09a8\u09c7\u09b0 \u09ae\u09be\u09a7\u09cd\u09af\u09ae\u09c7\u0964"
     ]
    },
    {
     "cell_type": "code",
     "collapsed": false,
     "input": [
      "df.describe()"
     ],
     "language": "python",
     "metadata": {},
     "outputs": [
      {
       "html": [
        "<div style=\"max-height:1000px;max-width:1500px;overflow:auto;\">\n",
        "<table border=\"1\" class=\"dataframe\">\n",
        "  <thead>\n",
        "    <tr style=\"text-align: right;\">\n",
        "      <th></th>\n",
        "      <th>A</th>\n",
        "      <th>B</th>\n",
        "      <th>C</th>\n",
        "      <th>D</th>\n",
        "      <th>E</th>\n",
        "    </tr>\n",
        "  </thead>\n",
        "  <tbody>\n",
        "    <tr>\n",
        "      <th>count</th>\n",
        "      <td> 5.000000</td>\n",
        "      <td> 5.000000</td>\n",
        "      <td> 5.000000</td>\n",
        "      <td> 5.000000</td>\n",
        "      <td> 5.000000</td>\n",
        "    </tr>\n",
        "    <tr>\n",
        "      <th>mean</th>\n",
        "      <td> 0.057461</td>\n",
        "      <td> 0.275779</td>\n",
        "      <td>-0.224253</td>\n",
        "      <td>-0.425109</td>\n",
        "      <td>-0.596511</td>\n",
        "    </tr>\n",
        "    <tr>\n",
        "      <th>std</th>\n",
        "      <td> 1.368472</td>\n",
        "      <td> 0.998950</td>\n",
        "      <td> 0.292811</td>\n",
        "      <td> 1.435495</td>\n",
        "      <td> 0.723005</td>\n",
        "    </tr>\n",
        "    <tr>\n",
        "      <th>min</th>\n",
        "      <td>-1.406780</td>\n",
        "      <td>-0.826986</td>\n",
        "      <td>-0.466003</td>\n",
        "      <td>-2.164979</td>\n",
        "      <td>-1.558174</td>\n",
        "    </tr>\n",
        "    <tr>\n",
        "      <th>25%</th>\n",
        "      <td>-0.674267</td>\n",
        "      <td>-0.377938</td>\n",
        "      <td>-0.438632</td>\n",
        "      <td>-1.355863</td>\n",
        "      <td>-1.075137</td>\n",
        "    </tr>\n",
        "    <tr>\n",
        "      <th>50%</th>\n",
        "      <td>-0.552988</td>\n",
        "      <td> 0.091664</td>\n",
        "      <td>-0.257940</td>\n",
        "      <td>-0.198346</td>\n",
        "      <td>-0.515156</td>\n",
        "    </tr>\n",
        "    <tr>\n",
        "      <th>75%</th>\n",
        "      <td> 0.960272</td>\n",
        "      <td> 0.781694</td>\n",
        "      <td>-0.221681</td>\n",
        "      <td>-0.012960</td>\n",
        "      <td> 0.023387</td>\n",
        "    </tr>\n",
        "    <tr>\n",
        "      <th>max</th>\n",
        "      <td> 1.961069</td>\n",
        "      <td> 1.710462</td>\n",
        "      <td> 0.262994</td>\n",
        "      <td> 1.606601</td>\n",
        "      <td> 0.142525</td>\n",
        "    </tr>\n",
        "  </tbody>\n",
        "</table>\n",
        "</div>"
       ],
       "output_type": "pyout",
       "prompt_number": 32,
       "text": [
        "              A         B         C         D         E\n",
        "count  5.000000  5.000000  5.000000  5.000000  5.000000\n",
        "mean   0.057461  0.275779 -0.224253 -0.425109 -0.596511\n",
        "std    1.368472  0.998950  0.292811  1.435495  0.723005\n",
        "min   -1.406780 -0.826986 -0.466003 -2.164979 -1.558174\n",
        "25%   -0.674267 -0.377938 -0.438632 -1.355863 -1.075137\n",
        "50%   -0.552988  0.091664 -0.257940 -0.198346 -0.515156\n",
        "75%    0.960272  0.781694 -0.221681 -0.012960  0.023387\n",
        "max    1.961069  1.710462  0.262994  1.606601  0.142525"
       ]
      }
     ],
     "prompt_number": 32
    },
    {
     "cell_type": "markdown",
     "metadata": {},
     "source": [
      "\u098f\u0995\u099f\u09c1 \u09a8\u09a8-\u09b0\u200d\u09cd\u09af\u09be\u09a8\u09cd\u09a1\u09ae \u09a1\u09be\u099f\u09be \u09a8\u09bf\u09df\u09c7 \u0995\u09be\u099c \u0995\u09b0\u09be \u09af\u09be\u0995 \u09af\u09be\u09a4\u09c7 \u0986\u09ae\u09be\u09a6\u09c7\u09b0 \u0995\u09be\u099c\u0997\u09c1\u09b2\u09cb \u09ad\u09c7\u09b0\u09bf\u09ab\u09be\u0987\u09a1 \u09b9\u09df\u0964"
     ]
    },
    {
     "cell_type": "code",
     "collapsed": false,
     "input": [
      "df = pd.DataFrame(np.arange(16).reshape(4, 4),\n",
      "                  index=list(\"ABCD\"),\n",
      "                  columns=list(\"WXYZ\"))\n",
      "\n",
      "display(HTML(df.to_html()))"
     ],
     "language": "python",
     "metadata": {},
     "outputs": [
      {
       "html": [
        "<table border=\"1\" class=\"dataframe\">\n",
        "  <thead>\n",
        "    <tr style=\"text-align: right;\">\n",
        "      <th></th>\n",
        "      <th>W</th>\n",
        "      <th>X</th>\n",
        "      <th>Y</th>\n",
        "      <th>Z</th>\n",
        "    </tr>\n",
        "  </thead>\n",
        "  <tbody>\n",
        "    <tr>\n",
        "      <th>A</th>\n",
        "      <td>  0</td>\n",
        "      <td>  1</td>\n",
        "      <td>  2</td>\n",
        "      <td>  3</td>\n",
        "    </tr>\n",
        "    <tr>\n",
        "      <th>B</th>\n",
        "      <td>  4</td>\n",
        "      <td>  5</td>\n",
        "      <td>  6</td>\n",
        "      <td>  7</td>\n",
        "    </tr>\n",
        "    <tr>\n",
        "      <th>C</th>\n",
        "      <td>  8</td>\n",
        "      <td>  9</td>\n",
        "      <td> 10</td>\n",
        "      <td> 11</td>\n",
        "    </tr>\n",
        "    <tr>\n",
        "      <th>D</th>\n",
        "      <td> 12</td>\n",
        "      <td> 13</td>\n",
        "      <td> 14</td>\n",
        "      <td> 15</td>\n",
        "    </tr>\n",
        "  </tbody>\n",
        "</table>"
       ],
       "output_type": "display_data",
       "text": [
        "<IPython.core.display.HTML at 0xbe11d6c>"
       ]
      }
     ],
     "prompt_number": 33
    },
    {
     "cell_type": "markdown",
     "metadata": {},
     "source": [
      "\u098f\u09ac\u09be\u09b0 \u09aa\u09be\u09b2\u09be \u0995\u09bf\u099b\u09c1 \u0985\u09aa\u09be\u09b0\u09c7\u09b6\u09be\u09a8\u09c7\u09b0\u0964 \u09ae\u09a8\u09c7 \u09b0\u09be\u0996\u09ac\u09c7\u09a8 \u09b0\u09cb \u09b9\u09b2 \u09e7, \u0986\u09b0 \u0995\u09b2\u09be\u09ae \u09b9\u09b2 \u09e6\u0964"
     ]
    },
    {
     "cell_type": "code",
     "collapsed": false,
     "input": [
      "total_by_columns = df.sum(axis=0)\n",
      "total_by_rows = df.sum(axis=1)\n",
      "\n",
      "cumsum_by_columns = df.cumsum(axis=0)\n",
      "cumsum_by_rows = df.cumsum(axis=1)\n",
      "\n",
      "percentage_change_by_columns = df.pct_change(axis=0)\n",
      "percentage_change_by_row = df.pct_change(axis=1)\n",
      "\n",
      "# See also: mean, median, mad, var, skew, curt etc. Use ipython's ? and ?? for help."
     ],
     "language": "python",
     "metadata": {},
     "outputs": [],
     "prompt_number": 54
    },
    {
     "cell_type": "markdown",
     "metadata": {},
     "source": [
      "\u09a1\u09be\u099f\u09be \u0995\u09be\u09b2\u09c7\u0995\u09b6\u09a8\u09c7\u09b0 \u09b8\u09ae\u09df\u09c7 \u09aa\u09cd\u09b0\u09be\u09df\u09c7\u0987 \u0986\u09aa\u09a8\u09bf \u09ae\u09bf\u09b8\u09bf\u0982 \u09a1\u09be\u099f\u09be \u09aa\u09be\u09ac\u09c7\u09a8\u0964 \u09af\u09be \u0995\u09bf\u09a8\u09be \u0986\u09aa\u09a8\u09be\u09b0 \u0995\u09be\u09a0\u09be\u09ae\u09cb\u09a4\u09c7 \u0997\u09cd\u09af\u09be\u09aa \u09b9\u09bf\u09b8\u09be\u09ac\u09c7 \u09a5\u09be\u0995\u09ac\u09c7\u0964 \u098f\u0997\u09c1\u09b2\u09cb \u09b9\u09cd\u09af\u09be\u09a8\u09cd\u09a1\u09b2 \u0995\u09b0\u09be\u09b0 \u099f\u09c1\u09b2 \u09a6\u09bf\u09df\u09c7\u099b\u09c7 \u0986\u09aa\u09a8\u09be\u0995\u09c7 \u09aa\u09be\u09a8\u09cd\u09a1\u09be\u09b8\u0964 \u09af\u09be\u09b0 \u09ac\u09c7\u09b6\u09bf\u09b0\u09ad\u09be\u0997\u0987 \"na\" (\u0985\u09b0\u09cd\u09a5\u09be\u09ce not available) \u09a6\u09bf\u09df\u09c7 \u09b6\u09c7\u09b7 \u09b9\u09df\u0964 \u0989\u09a6\u09be\u09b9\u09b0\u09a3\u09b8\u09cd\u09ac\u09b0\u09c2\u09aa \u09a6\u09c7\u0996\u09bf-"
     ]
    },
    {
     "cell_type": "code",
     "collapsed": false,
     "input": [
      "print filter(lambda i: i.endswith(\"na\") or \"null\" in i, dir(df))"
     ],
     "language": "python",
     "metadata": {},
     "outputs": [
      {
       "output_type": "stream",
       "stream": "stdout",
       "text": [
        "['dropna', 'fillna', 'isnull', 'notnull']\n"
       ]
      }
     ],
     "prompt_number": 83
    },
    {
     "cell_type": "code",
     "collapsed": false,
     "input": [
      "pd.DataFrame([[1, None, 2, 4, None], [2, 3, 3, 5]]).dropna()"
     ],
     "language": "python",
     "metadata": {},
     "outputs": [
      {
       "html": [
        "<div style=\"max-height:1000px;max-width:1500px;overflow:auto;\">\n",
        "<table border=\"1\" class=\"dataframe\">\n",
        "  <thead>\n",
        "    <tr style=\"text-align: right;\">\n",
        "      <th></th>\n",
        "      <th>0</th>\n",
        "      <th>1</th>\n",
        "      <th>2</th>\n",
        "      <th>3</th>\n",
        "      <th>4</th>\n",
        "    </tr>\n",
        "  </thead>\n",
        "  <tbody>\n",
        "  </tbody>\n",
        "</table>\n",
        "</div>"
       ],
       "output_type": "pyout",
       "prompt_number": 70,
       "text": [
        "Empty DataFrame\n",
        "Columns: [0, 1, 2, 3, 4]\n",
        "Index: []"
       ]
      }
     ],
     "prompt_number": 70
    },
    {
     "cell_type": "code",
     "collapsed": false,
     "input": [
      "pd.DataFrame([[1, None, 2, 4, None], [2, 3, 3, 5]]).fillna(\"\u09b6\u09c2\u09a8\u09cd\u09af\")"
     ],
     "language": "python",
     "metadata": {},
     "outputs": [
      {
       "html": [
        "<div style=\"max-height:1000px;max-width:1500px;overflow:auto;\">\n",
        "<table border=\"1\" class=\"dataframe\">\n",
        "  <thead>\n",
        "    <tr style=\"text-align: right;\">\n",
        "      <th></th>\n",
        "      <th>0</th>\n",
        "      <th>1</th>\n",
        "      <th>2</th>\n",
        "      <th>3</th>\n",
        "      <th>4</th>\n",
        "    </tr>\n",
        "  </thead>\n",
        "  <tbody>\n",
        "    <tr>\n",
        "      <th>0</th>\n",
        "      <td> 1</td>\n",
        "      <td> \u09b6\u09c2\u09a8\u09cd\u09af</td>\n",
        "      <td> 2</td>\n",
        "      <td> 4</td>\n",
        "      <td> \u09b6\u09c2\u09a8\u09cd\u09af</td>\n",
        "    </tr>\n",
        "    <tr>\n",
        "      <th>1</th>\n",
        "      <td> 2</td>\n",
        "      <td>     3</td>\n",
        "      <td> 3</td>\n",
        "      <td> 5</td>\n",
        "      <td> \u09b6\u09c2\u09a8\u09cd\u09af</td>\n",
        "    </tr>\n",
        "  </tbody>\n",
        "</table>\n",
        "</div>"
       ],
       "output_type": "pyout",
       "prompt_number": 72,
       "text": [
        "   0      1  2  3      4\n",
        "0  1  \u09b6\u09c2\u09a8\u09cd\u09af  2  4  \u09b6\u09c2\u09a8\u09cd\u09af\n",
        "1  2      3  3  5  \u09b6\u09c2\u09a8\u09cd\u09af"
       ]
      }
     ],
     "prompt_number": 72
    },
    {
     "cell_type": "markdown",
     "metadata": {},
     "source": [
      "\u0986\u09aa\u09a8\u09bf \u09af\u09c7\u0987 \u0985\u0995\u09cd\u09b7\u0987 \u099a\u09bf\u09a8\u09cd\u09a4\u09be \u0995\u09b0\u09c7\u09a8\u09a8\u09be \u0995\u09c7\u09a8, \u0986\u09aa\u09a8\u09bf \u098f\u0995 \u09a7\u09be\u09aa \u09a7\u09b0\u09b2\u09c7 \u098f\u0995\u099f\u09bf \u0985\u09cd\u09af\u09be\u09b0\u09c7 \u09aa\u09be\u09ac\u09c7\u09a8\u0964 \u09af\u09a6\u09bf \u0985\u0995\u09cd\u09b7 \u09b9\u09df \u09e6 \u09a4\u09be\u09b9\u09b2\u09c7 \u0995\u09b2\u09be\u09ae, \u0985\u09a8\u09cd\u09af\u09a5\u09be\u09df \u09b0\u09cb\u0964 \u098f\u0996\u09a8, \u0986\u09aa\u09a8\u09bf sum, cumsum, mean, median, var \u0987\u09a4\u09cd\u09af\u09be\u09a6\u09bf \u09aa\u09be\u099a\u09cd\u099b\u09c7\u09a8 \u09b8\u0982\u09b6\u09cd\u09b2\u09bf\u09b7\u09cd\u099f \u0985\u09aa\u09be\u09b0\u09c7\u09b6\u09be\u09a8\u09c7\u09b0 \u099c\u09a8\u09cd\u09af\u0964 \u0995\u09bf\u09a8\u09cd\u09a4\u09c1 \u0986\u09aa\u09a8\u09bf \u09af\u09a6\u09bf \u09a8\u09bf\u099c\u09c7\u09b0 \u0995\u09bf\u099b\u09c1 \u099a\u09be\u09a8 \u09a4\u09be\u09b9\u09b2\u09c7? \u09a4\u09be\u09b9\u09b2\u09c7 \u0986\u09aa\u09a8\u09be\u09b0 \u098f\u09ae\u09a8 \u09ab\u09be\u0982\u09b6\u09a8 \u09b2\u09bf\u0996\u09a4\u09c7 \u09b9\u09ac\u09c7 \u09af\u09be\u09b0 \u09aa\u09cd\u09b0\u09a5\u09ae \u09aa\u09cd\u09af\u09be\u09b0\u09be\u09ae\u09bf\u099f\u09be\u09b0 \u0985\u09cd\u09af\u09be\u09b0\u09c7, \u098f\u09ac\u0982 \u0986\u09aa\u09a8\u09bf \u0986\u09aa\u09a8\u09be\u09b0 \u09a1\u09be\u099f\u09be\u09ab\u09cd\u09b0\u09be\u09ae\u09c7\u09b0 \u09b8\u09be\u09a5\u09c7 \u09a4\u09be\u0995\u09c7 \u0986\u09aa\u09cd\u09b2\u09be\u0987 \u0995\u09b0\u09ac\u09c7\u09a8\u0964 \u09af\u09c7\u09ae\u09a8 \u09a8\u09bf\u099a\u09c7\u09b0 \u0995\u09cb\u09a1\u099f\u09bf\u0995\u09c7\u0987 \u09a7\u09b0\u09c1\u09a8-"
     ]
    },
    {
     "cell_type": "code",
     "collapsed": false,
     "input": [
      "df = pd.DataFrame(np.arange(10).reshape(5, 2))\n",
      "df"
     ],
     "language": "python",
     "metadata": {},
     "outputs": [
      {
       "html": [
        "<div style=\"max-height:1000px;max-width:1500px;overflow:auto;\">\n",
        "<table border=\"1\" class=\"dataframe\">\n",
        "  <thead>\n",
        "    <tr style=\"text-align: right;\">\n",
        "      <th></th>\n",
        "      <th>0</th>\n",
        "      <th>1</th>\n",
        "    </tr>\n",
        "  </thead>\n",
        "  <tbody>\n",
        "    <tr>\n",
        "      <th>0</th>\n",
        "      <td> 0</td>\n",
        "      <td> 1</td>\n",
        "    </tr>\n",
        "    <tr>\n",
        "      <th>1</th>\n",
        "      <td> 2</td>\n",
        "      <td> 3</td>\n",
        "    </tr>\n",
        "    <tr>\n",
        "      <th>2</th>\n",
        "      <td> 4</td>\n",
        "      <td> 5</td>\n",
        "    </tr>\n",
        "    <tr>\n",
        "      <th>3</th>\n",
        "      <td> 6</td>\n",
        "      <td> 7</td>\n",
        "    </tr>\n",
        "    <tr>\n",
        "      <th>4</th>\n",
        "      <td> 8</td>\n",
        "      <td> 9</td>\n",
        "    </tr>\n",
        "  </tbody>\n",
        "</table>\n",
        "</div>"
       ],
       "output_type": "pyout",
       "prompt_number": 73,
       "text": [
        "   0  1\n",
        "0  0  1\n",
        "1  2  3\n",
        "2  4  5\n",
        "3  6  7\n",
        "4  8  9"
       ]
      }
     ],
     "prompt_number": 73
    },
    {
     "cell_type": "code",
     "collapsed": false,
     "input": [
      "def multiply_with(df, n):\n",
      "    return df * n\n",
      "\n",
      "df.apply(multiply_with, n=10)"
     ],
     "language": "python",
     "metadata": {},
     "outputs": [
      {
       "html": [
        "<div style=\"max-height:1000px;max-width:1500px;overflow:auto;\">\n",
        "<table border=\"1\" class=\"dataframe\">\n",
        "  <thead>\n",
        "    <tr style=\"text-align: right;\">\n",
        "      <th></th>\n",
        "      <th>0</th>\n",
        "      <th>1</th>\n",
        "    </tr>\n",
        "  </thead>\n",
        "  <tbody>\n",
        "    <tr>\n",
        "      <th>0</th>\n",
        "      <td>  0</td>\n",
        "      <td> 10</td>\n",
        "    </tr>\n",
        "    <tr>\n",
        "      <th>1</th>\n",
        "      <td> 20</td>\n",
        "      <td> 30</td>\n",
        "    </tr>\n",
        "    <tr>\n",
        "      <th>2</th>\n",
        "      <td> 40</td>\n",
        "      <td> 50</td>\n",
        "    </tr>\n",
        "    <tr>\n",
        "      <th>3</th>\n",
        "      <td> 60</td>\n",
        "      <td> 70</td>\n",
        "    </tr>\n",
        "    <tr>\n",
        "      <th>4</th>\n",
        "      <td> 80</td>\n",
        "      <td> 90</td>\n",
        "    </tr>\n",
        "  </tbody>\n",
        "</table>\n",
        "</div>"
       ],
       "output_type": "pyout",
       "prompt_number": 82,
       "text": [
        "    0   1\n",
        "0   0  10\n",
        "1  20  30\n",
        "2  40  50\n",
        "3  60  70\n",
        "4  80  90"
       ]
      }
     ],
     "prompt_number": 82
    },
    {
     "cell_type": "code",
     "collapsed": false,
     "input": [
      "df = pd.DataFrame(np.random.randn(3, 5))\n",
      "df"
     ],
     "language": "python",
     "metadata": {},
     "outputs": [
      {
       "html": [
        "<div style=\"max-height:1000px;max-width:1500px;overflow:auto;\">\n",
        "<table border=\"1\" class=\"dataframe\">\n",
        "  <thead>\n",
        "    <tr style=\"text-align: right;\">\n",
        "      <th></th>\n",
        "      <th>0</th>\n",
        "      <th>1</th>\n",
        "      <th>2</th>\n",
        "      <th>3</th>\n",
        "      <th>4</th>\n",
        "    </tr>\n",
        "  </thead>\n",
        "  <tbody>\n",
        "    <tr>\n",
        "      <th>0</th>\n",
        "      <td> 0.080426</td>\n",
        "      <td> 2.012099</td>\n",
        "      <td> 0.919150</td>\n",
        "      <td>-0.379672</td>\n",
        "      <td>-1.204189</td>\n",
        "    </tr>\n",
        "    <tr>\n",
        "      <th>1</th>\n",
        "      <td> 0.231752</td>\n",
        "      <td> 0.451970</td>\n",
        "      <td>-1.732385</td>\n",
        "      <td> 0.702375</td>\n",
        "      <td>-0.860986</td>\n",
        "    </tr>\n",
        "    <tr>\n",
        "      <th>2</th>\n",
        "      <td>-0.551936</td>\n",
        "      <td> 0.911473</td>\n",
        "      <td>-1.215514</td>\n",
        "      <td>-0.694774</td>\n",
        "      <td> 1.312840</td>\n",
        "    </tr>\n",
        "  </tbody>\n",
        "</table>\n",
        "</div>"
       ],
       "output_type": "pyout",
       "prompt_number": 85,
       "text": [
        "          0         1         2         3         4\n",
        "0  0.080426  2.012099  0.919150 -0.379672 -1.204189\n",
        "1  0.231752  0.451970 -1.732385  0.702375 -0.860986\n",
        "2 -0.551936  0.911473 -1.215514 -0.694774  1.312840"
       ]
      }
     ],
     "prompt_number": 85
    },
    {
     "cell_type": "markdown",
     "metadata": {},
     "source": [
      "\u098f\u0987\u09ac\u09be\u09b0 \u0987\u09a8\u09cd\u09a1\u09c7\u0995\u09cd\u09b8\u09bf\u0982\u0964 \u09ac\u09bf\u09b6\u09c7\u09b7 \u098f\u0995 \u09a1\u09be\u099f\u09be\u09ab\u09cd\u09b0\u09c7\u09ae \u09a4\u09c8\u09b0\u09bf \u0995\u09b0\u09bf \u09af\u09c7\u09a8 \u0987\u09a8\u09cd\u09a1\u09c7\u0995\u09cd\u09b8\u09bf\u0982 \u09ac\u09c1\u099d\u09a4\u09c7 \u09b8\u09c1\u09ac\u09bf\u09a7\u09be \u09b9\u09df\u0964"
     ]
    },
    {
     "cell_type": "code",
     "collapsed": false,
     "input": [
      "df = pd.DataFrame([[\"00\", \"01\", \"02\", \"03\"],\n",
      "                   [\"10\", \"11\", \"12\", \"13\"],\n",
      "                   [\"20\", \"21\", \"22\", \"23\"],\n",
      "                   [\"40\", \"41\", \"42\", \"43\"],],\n",
      "                  index=[\"r0\", \"r1\", \"r2\", \"r3\"],\n",
      "                  columns=[\"c0\", \"c1\", \"c2\", \"c3\"])\n",
      "df"
     ],
     "language": "python",
     "metadata": {},
     "outputs": [
      {
       "html": [
        "<div style=\"max-height:1000px;max-width:1500px;overflow:auto;\">\n",
        "<table border=\"1\" class=\"dataframe\">\n",
        "  <thead>\n",
        "    <tr style=\"text-align: right;\">\n",
        "      <th></th>\n",
        "      <th>c0</th>\n",
        "      <th>c1</th>\n",
        "      <th>c2</th>\n",
        "      <th>c3</th>\n",
        "    </tr>\n",
        "  </thead>\n",
        "  <tbody>\n",
        "    <tr>\n",
        "      <th>r0</th>\n",
        "      <td> 00</td>\n",
        "      <td> 01</td>\n",
        "      <td> 02</td>\n",
        "      <td> 03</td>\n",
        "    </tr>\n",
        "    <tr>\n",
        "      <th>r1</th>\n",
        "      <td> 10</td>\n",
        "      <td> 11</td>\n",
        "      <td> 12</td>\n",
        "      <td> 13</td>\n",
        "    </tr>\n",
        "    <tr>\n",
        "      <th>r2</th>\n",
        "      <td> 20</td>\n",
        "      <td> 21</td>\n",
        "      <td> 22</td>\n",
        "      <td> 23</td>\n",
        "    </tr>\n",
        "    <tr>\n",
        "      <th>r3</th>\n",
        "      <td> 40</td>\n",
        "      <td> 41</td>\n",
        "      <td> 42</td>\n",
        "      <td> 43</td>\n",
        "    </tr>\n",
        "  </tbody>\n",
        "</table>\n",
        "</div>"
       ],
       "output_type": "pyout",
       "prompt_number": 105,
       "text": [
        "    c0  c1  c2  c3\n",
        "r0  00  01  02  03\n",
        "r1  10  11  12  13\n",
        "r2  20  21  22  23\n",
        "r3  40  41  42  43"
       ]
      }
     ],
     "prompt_number": 105
    },
    {
     "cell_type": "markdown",
     "metadata": {},
     "source": [
      "\u09a1\u09be\u099f\u09be\u09ab\u09cd\u09b0\u09c7\u09ae \u0986\u09b0 \u09a8\u09be\u09ae\u09aa\u09be\u0987 \u0985\u09cd\u09af\u09be\u09b0\u09c7 \u098f\u0995\u0987 \u09b0\u0995\u09ae \u0987\u09a8\u09cd\u09a1\u09c7\u0995\u09cd\u09b8\u09bf\u0982 \u09ac\u09cd\u09af\u09ac\u09b9\u09be\u09b0 \u0995\u09b0\u09c7 \u098f\u0995 \u09ac\u09bf\u09b6\u09c7\u09b7 \u09ab\u09be\u0982\u09b6\u09a8 ix \u098f\u09b0 \u09ae\u09be\u09a7\u09cd\u09af\u09ae\u09c7\u0964 "
     ]
    },
    {
     "cell_type": "code",
     "collapsed": false,
     "input": [
      "df.ix[2, :] # \u09b0\u09cb \u09e8 \u098f \u09b8\u09cd\u09a5\u09bf\u09b0\u0964"
     ],
     "language": "python",
     "metadata": {},
     "outputs": [
      {
       "output_type": "pyout",
       "prompt_number": 108,
       "text": [
        "c0    20\n",
        "c1    21\n",
        "c2    22\n",
        "c3    23\n",
        "Name: r2, dtype: object"
       ]
      }
     ],
     "prompt_number": 108
    },
    {
     "cell_type": "code",
     "collapsed": false,
     "input": [
      "df.ix[:, 3] # \u0995\u09b2\u09be\u09ae \u09e9 \u098f \u09b8\u09cd\u09a5\u09bf\u09b0\u0964"
     ],
     "language": "python",
     "metadata": {},
     "outputs": [
      {
       "output_type": "pyout",
       "prompt_number": 109,
       "text": [
        "r0    03\n",
        "r1    13\n",
        "r2    23\n",
        "r3    43\n",
        "Name: c3, dtype: object"
       ]
      }
     ],
     "prompt_number": 109
    },
    {
     "cell_type": "code",
     "collapsed": false,
     "input": [
      "df.ix[1:2, 1:3] # \u09e7 \u09a5\u09c7\u0995\u09c7 \u09e8 \u098f\u09b0 \u0986\u0997 \u09aa\u09b0\u09cd\u09af\u09a8\u09cd\u09a4 \u09b0\u09cb, \u09e7 \u09a5\u09c7\u0995\u09c7 \u09e9 \u098f\u09b0 \u0986\u0997 \u09aa\u09b0\u09cd\u09af\u09a8\u09cd\u09a4 \u0995\u09b2\u09be\u09ae\u0964"
     ],
     "language": "python",
     "metadata": {},
     "outputs": [
      {
       "html": [
        "<div style=\"max-height:1000px;max-width:1500px;overflow:auto;\">\n",
        "<table border=\"1\" class=\"dataframe\">\n",
        "  <thead>\n",
        "    <tr style=\"text-align: right;\">\n",
        "      <th></th>\n",
        "      <th>c1</th>\n",
        "      <th>c2</th>\n",
        "    </tr>\n",
        "  </thead>\n",
        "  <tbody>\n",
        "    <tr>\n",
        "      <th>r1</th>\n",
        "      <td> 11</td>\n",
        "      <td> 12</td>\n",
        "    </tr>\n",
        "  </tbody>\n",
        "</table>\n",
        "</div>"
       ],
       "output_type": "pyout",
       "prompt_number": 111,
       "text": [
        "    c1  c2\n",
        "r1  11  12"
       ]
      }
     ],
     "prompt_number": 111
    },
    {
     "cell_type": "markdown",
     "metadata": {},
     "source": [
      "\u0995\u09bf\u09a8\u09cd\u09a4\u09c1 ix \u0995\u09c7\u09a8? \u09b8\u09b0\u09be\u09b8\u09b0\u09bf [] \u0995\u09c7\u09a8 \u0987\u0989\u099c \u0995\u09b0\u09b2\u09be\u09ae \u09a8\u09be? \u0995\u09be\u09b0\u09a3, [] \u09a6\u09bf\u09df\u09c7 \u0995\u09b2\u09be\u09ae \u09ac\u09c7\u09b0 \u0995\u09b0\u09ac\u0964 \u0986\u09b0 \u09aa\u09cd\u09b0\u09a4\u09bf\u099f\u09bf \u0995\u09b2\u09be\u09ae \u09b9\u09b2 \u09a1\u09be\u099f\u09be\u09ab\u09cd\u09b0\u09c7\u09ae\u09c7\u09b0 \u0985\u09cd\u09af\u09be\u099f\u09cd\u09b0\u09bf\u09ac\u09bf\u0989\u099f\u0964 \u0986\u09b0 \u09a4\u09be \u0986\u09aa\u09a8\u09be\u0995\u09c7 \u09a6\u09bf\u09ac\u09c7 \u098f\u0995\u099f\u09bf \u09b8\u09bf\u09b0\u09bf\u099c \u09af\u09be\u09b0 \u0985\u09cd\u09af\u09be\u099f\u09cd\u09b0\u09bf\u09ac\u09bf\u0989\u099f \u09b9\u09ac\u09c7 \u09b0\u09cb\u0964 "
     ]
    },
    {
     "cell_type": "code",
     "collapsed": false,
     "input": [
      "df[\"c1\"] # df.c1 \u09a6\u09bf\u09b2\u09c7\u0993 \u099a\u09b2\u09a4\u0964 \u099c\u09be\u09ad\u09be\u09b8\u09cd\u0995\u09cd\u09b0\u09bf\u09aa\u09cd\u099f\u09c7\u09b0 \u09ae\u09a4\u0964 "
     ],
     "language": "python",
     "metadata": {},
     "outputs": [
      {
       "output_type": "pyout",
       "prompt_number": 119,
       "text": [
        "r0    01\n",
        "r1    11\n",
        "r2    21\n",
        "r3    41\n",
        "Name: c1, dtype: object"
       ]
      }
     ],
     "prompt_number": 119
    },
    {
     "cell_type": "code",
     "collapsed": false,
     "input": [
      "type(df.c1)"
     ],
     "language": "python",
     "metadata": {},
     "outputs": [
      {
       "output_type": "pyout",
       "prompt_number": 120,
       "text": [
        "pandas.core.series.Series"
       ]
      }
     ],
     "prompt_number": 120
    },
    {
     "cell_type": "code",
     "collapsed": false,
     "input": [
      "df.c1.r1"
     ],
     "language": "python",
     "metadata": {},
     "outputs": [
      {
       "output_type": "pyout",
       "prompt_number": 121,
       "text": [
        "'11'"
       ]
      }
     ],
     "prompt_number": 121
    },
    {
     "cell_type": "markdown",
     "metadata": {},
     "source": [
      "\u098f\u09a4\u0995\u09cd\u09b7\u09a3 \u09a6\u09c7\u0996\u09b2\u09be\u09ae \u09af\u09c7 \u09e8-\u09a1\u09bf \u0985\u09cd\u09af\u09be\u09b0\u09c7 \u09a6\u09bf\u09df\u09c7\u0987 \u09a1\u09be\u099f\u09be\u09ab\u09cd\u09b0\u09c7\u09ae \u09a4\u09c8\u09b0\u09bf \u0995\u09b0\u09c7\u099b\u09bf\u0964 \u0995\u09bf\u09a8\u09cd\u09a4\u09c1 \u0986\u09b8\u09b2\u09c7 \u0986\u09b0\u09c7\u0995\u09ad\u09be\u09ac\u09c7 \u09a1\u09be\u099f\u09be\u09ab\u09cd\u09b0\u09c7\u09ae \u09a4\u09c8\u09b0\u09bf \u0995\u09b0\u09be \u09af\u09be\u09df\u0964 \u09a1\u09bf\u0995\u09b6\u09a8\u09be\u09b0\u09bf \u09a6\u09bf\u09df\u09c7\u0964 \u098f\u099f\u09bf zip \u09a8\u09bf\u09df\u09ae \u09ab\u09b2\u09cb \u0995\u09b0\u09c7 \u09a8\u09be\u09ae\u09aa\u09be\u0987\u098f\u09b0 \u09ae\u09a4\u0964 "
     ]
    },
    {
     "cell_type": "code",
     "collapsed": false,
     "input": [
      "data = {\n",
      "    \"names\": [\"Uruguay\", \"Brazil\", \"Argentina\", \"Germany\", \"Italy\", \"Spain\", \"England\"],\n",
      "    \"participated\": [12, 20, 16, 18, 18, 14, 14,],\n",
      "    \"continent\": [\"SA\", \"SA\", \"SA\", \"E\", \"E\", \"E\", \"E\"],\n",
      "    \"wins\": [1, 5, 2, 4, 4, 1, 1],\n",
      "    \"runnerup\": [2, 7, 5, 8, 6, 1, 1]\n",
      "}\n",
      "\n",
      "df = pd.DataFrame(data, \n",
      "        index=[\"Uruguay\", \"Brazil\", \"Argentina\", \"Germany\", \"Italy\", \"Spain\", \"England\"],)\n",
      "df"
     ],
     "language": "python",
     "metadata": {},
     "outputs": [
      {
       "html": [
        "<div style=\"max-height:1000px;max-width:1500px;overflow:auto;\">\n",
        "<table border=\"1\" class=\"dataframe\">\n",
        "  <thead>\n",
        "    <tr style=\"text-align: right;\">\n",
        "      <th></th>\n",
        "      <th>continent</th>\n",
        "      <th>names</th>\n",
        "      <th>participated</th>\n",
        "      <th>runnerup</th>\n",
        "      <th>wins</th>\n",
        "    </tr>\n",
        "  </thead>\n",
        "  <tbody>\n",
        "    <tr>\n",
        "      <th>Uruguay</th>\n",
        "      <td> SA</td>\n",
        "      <td>   Uruguay</td>\n",
        "      <td> 12</td>\n",
        "      <td> 2</td>\n",
        "      <td> 1</td>\n",
        "    </tr>\n",
        "    <tr>\n",
        "      <th>Brazil</th>\n",
        "      <td> SA</td>\n",
        "      <td>    Brazil</td>\n",
        "      <td> 20</td>\n",
        "      <td> 7</td>\n",
        "      <td> 5</td>\n",
        "    </tr>\n",
        "    <tr>\n",
        "      <th>Argentina</th>\n",
        "      <td> SA</td>\n",
        "      <td> Argentina</td>\n",
        "      <td> 16</td>\n",
        "      <td> 5</td>\n",
        "      <td> 2</td>\n",
        "    </tr>\n",
        "    <tr>\n",
        "      <th>Germany</th>\n",
        "      <td>  E</td>\n",
        "      <td>   Germany</td>\n",
        "      <td> 18</td>\n",
        "      <td> 8</td>\n",
        "      <td> 4</td>\n",
        "    </tr>\n",
        "    <tr>\n",
        "      <th>Italy</th>\n",
        "      <td>  E</td>\n",
        "      <td>     Italy</td>\n",
        "      <td> 18</td>\n",
        "      <td> 6</td>\n",
        "      <td> 4</td>\n",
        "    </tr>\n",
        "    <tr>\n",
        "      <th>Spain</th>\n",
        "      <td>  E</td>\n",
        "      <td>     Spain</td>\n",
        "      <td> 14</td>\n",
        "      <td> 1</td>\n",
        "      <td> 1</td>\n",
        "    </tr>\n",
        "    <tr>\n",
        "      <th>England</th>\n",
        "      <td>  E</td>\n",
        "      <td>   England</td>\n",
        "      <td> 14</td>\n",
        "      <td> 1</td>\n",
        "      <td> 1</td>\n",
        "    </tr>\n",
        "  </tbody>\n",
        "</table>\n",
        "</div>"
       ],
       "output_type": "pyout",
       "prompt_number": 160,
       "text": [
        "          continent      names  participated  runnerup  wins\n",
        "Uruguay          SA    Uruguay            12         2     1\n",
        "Brazil           SA     Brazil            20         7     5\n",
        "Argentina        SA  Argentina            16         5     2\n",
        "Germany           E    Germany            18         8     4\n",
        "Italy             E      Italy            18         6     4\n",
        "Spain             E      Spain            14         1     1\n",
        "England           E    England            14         1     1"
       ]
      }
     ],
     "prompt_number": 160
    },
    {
     "cell_type": "code",
     "collapsed": false,
     "input": [
      "df.plot(kind=\"barh\", grid=True, stacked=True, rot=30)"
     ],
     "language": "python",
     "metadata": {},
     "outputs": [
      {
       "output_type": "pyout",
       "prompt_number": 161,
       "text": [
        "<matplotlib.axes.AxesSubplot at 0xdfc81cc>"
       ]
      },
      {
       "output_type": "display_data",
       "png": "[encoded data removed]"
      }
     ],
     "prompt_number": 161
    },
    {
     "cell_type": "code",
     "collapsed": false,
     "input": [
      "df.continent.value_counts().plot(kind=\"pie\", label=\"Continents\").axis(\"equal\")"
     ],
     "language": "python",
     "metadata": {},
     "outputs": [
      {
       "output_type": "pyout",
       "prompt_number": 159,
       "text": [
        "(-1.0000000210975502,\n",
        " 1.0000000424121425,\n",
        " -1.0253279992249265,\n",
        " 1.0083560303418613)"
       ]
      },
      {
       "output_type": "display_data",
       "png": "[encoded data removed]"
      }
     ],
     "prompt_number": 159
    },
    {
     "cell_type": "markdown",
     "metadata": {},
     "source": [
      "\u0985\u09a8\u09c7\u0995 \u0995\u09bf\u099b\u09c1\u0987 \u09a6\u09c7\u0996\u09b2\u09be\u09ae, \u098f\u0996\u09a8 \u099a\u09b2\u09c1\u09a8 \u0995\u09bf\u099b\u09c1 \u0985\u09cd\u09af\u09be\u09a1\u09ad\u09be\u09a8\u09cd\u09b8\u09a1 \u0995\u09df\u09c7\u09b0\u09bf \u0995\u09b0\u09bf\u0964 \n",
      "\n",
      "\u09a7\u09b0\u09c1\u09a8, \u0986\u09aa\u09a8\u09bf \u099a\u09be\u099a\u09cd\u099b\u09c7\u09a8 \u09af\u09c7 \u09b8\u09ae\u09be\u09a8 \u09b8\u0982\u0996\u09cd\u09af\u0995\u09ac\u09be\u09b0 \u099a\u09cd\u09af\u09be\u09ae\u09cd\u09aa\u09bf\u09df\u09a8 \u09b9\u0993\u09df\u09be \u09a6\u09c7\u09b6\u0997\u09c1\u09b2\u09bf \u098f\u0995\u09a4\u09cd\u09b0\u09bf\u09a4 \u09b9\u09cb\u0995\u0964 \u098f\u09b0 \u099c\u09a8\u09cd\u09af \u0986\u09aa\u09a8\u09be\u0995\u09c7 \u09ac\u09c1\u099d\u09a4\u09c7 \u09b9\u09ac\u09c7 \u09aa\u09bf\u09ad\u099f\u0987\u0982 \u0993 \u09b8\u09cd\u099f\u09df\u09be\u0995\u09bf\u0982\u0964 \u09aa\u09bf\u09ad\u099f \u09b9\u09b2 \u0995\u09cb\u09a8 \u098f\u0995\u099f\u09bf \u0985\u09cd\u09af\u09be\u099f\u09cd\u09b0\u09bf\u09ac\u09bf\u0989\u099f\u0995\u09c7 \u0987\u0989\u09a8\u09bf\u0995 \u09b0\u09c7\u0996\u09c7 \u09b8\u09c7\u0987 \u09ad\u09cd\u09af\u09be\u09b2\u09c1\u09b0 \u09b8\u09be\u09a5\u09c7\u0995\u09be\u09b0 \u0985\u09a8\u09cd\u09af\u09be\u09a8\u09cd\u09af \u0985\u09cd\u09af\u09be\u099f\u09cd\u09b0\u09bf\u09ac\u09bf\u0989\u099f\u0995\u09c7 \u09b8\u09be\u099c\u09be\u09a8\u0964 \u0985\u09a8\u09c7\u0995\u099f\u09be \u09b8\u09c7\u099f \u098f\u09b0 \u0995\u09cd\u09b0\u09b8 \u09aa\u09cd\u09b0\u09cb\u09a1\u09be\u0995\u09cd\u099f\u09c7\u09b0 \u09ae\u09a4, \u098f\u0995\u099f\u09c1 \u09b0\u09bf\u09df\u09be\u09b0\u09c7\u099e\u09cd\u099c \u0986\u09b0\u0995\u09bf\u0964 \u09ae\u09a8\u09c7 \u0995\u09b0\u09c1\u09a8 \u0986\u09aa\u09a8\u09bf \u0987\u09a8\u09a1\u09c7\u0995\u09cd\u09b8\u0995\u09c7 \u09a7\u09b0\u09c7 \u09aa\u09c1\u09b0\u09be \u099f\u09be\u09ac\u09cd\u09b2\u0995\u09c7 \u0998\u09c1\u09b0\u09be\u09b2\u09c7\u09a8\u0964 stack \u098f\u09b0 \u09ae\u09be\u09a7\u09cd\u09af\u09ae\u09c7 \u099f\u09c7\u09ac\u09cd\u09b2\u09c7 \u0986\u0981\u0995\u09be\u09b0\u09c7 \u09b8\u09be\u099c\u09be\u09a8 \u09b9\u09df \u0986\u09b0 unstack \u098f\u09b0 \u09ae\u09be\u09a7\u09cd\u09af\u09ae\u09c7 \u09b2\u09bf\u09b8\u09cd\u099f \u0986\u0981\u0995\u09be\u09b0\u09c7\u0964 \u09ae\u09a8\u09c7 \u09b0\u09be\u0996\u09ac\u09c7\u09a8, \u0995\u09b2\u09be\u09ae \u0987\u0989\u09a8\u09bf\u0995 \u09a5\u09be\u0995\u09ac\u09c7, \u0986\u09b0 \u0987\u09a8\u09a1\u09c7\u0995\u09cd\u09b8 \u0985\u09a8\u09c1\u09af\u09be\u09df\u09c0 \u098f\u0995\u09a4\u09cd\u09b0\u09bf\u09a4 \u09b9\u09ac\u09c7\u0964 \u0985\u09b0\u09cd\u09a5\u09be\u09ce, \u09af\u09a6\u09bf \u0995\u09b2\u09be\u09ae \u09b9\u09df names \u0986\u09b0 wins \u09b9\u09df \u0987\u09a8\u09a1\u09c7\u0995\u09cd\u09b8, \u09a4\u09be\u09b9\u09b2\u09c7, \u098f\u09ae\u09a8 \u09b9\u09ac\u09c7, \"\u09aa\u09cd\u09b0\u09a4\u09bf\u099f\u09bf \u0995\u09b2\u09be\u09ae \u09ad\u09cd\u09af\u09be\u09b2\u09c1 \u09ac\u09a8\u09be\u09ae \u0987\u09a8\u09a1\u09c7\u0995\u09cd\u09b8\u09c7\u09b0 \u09aa\u09cd\u09b0\u09a4\u09bf\u099f\u09bf \u09ad\u09cd\u09af\u09be\u09b2\u09c1, \u09a5\u09be\u0995\u09b2\u09c7 \u09b8\u09c7\u0987 \u09ad\u09cd\u09af\u09be\u09b2\u09c1, \u09a8\u09be \u09a5\u09be\u0995\u09b2\u09c7 NaN."
     ]
    },
    {
     "cell_type": "code",
     "collapsed": false,
     "input": [
      "pivoted = df.pivot(index=\"wins\", columns=\"names\")"
     ],
     "language": "python",
     "metadata": {},
     "outputs": [],
     "prompt_number": 213
    },
    {
     "cell_type": "code",
     "collapsed": false,
     "input": [
      "pivoted.unstack()\n",
      "# \u09ac\u09bf\u09b6\u09be\u09b2 \u098f\u0995 \u0995\u09cd\u09b0\u09b8 \u09aa\u09cd\u09b0\u09cb\u09a1\u09be\u0995\u09cd\u099f\u0964 NaN \u09ad\u09cd\u09af\u09be\u09b2\u09c1 \u09b9\u09b2 \u0996\u09be\u09b2\u09bf \u09a1\u09be\u099f\u09be\u09b0 \u099c\u09a8\u09cd\u09af\u09c7\u0964 "
     ],
     "language": "python",
     "metadata": {},
     "outputs": [
      {
       "output_type": "pyout",
       "prompt_number": 210,
       "text": [
        "              names      wins\n",
        "participated  Argentina  1      NaN\n",
        "                         2       16\n",
        "                         4      NaN\n",
        "                         5      NaN\n",
        "              Brazil     1      NaN\n",
        "                         2      NaN\n",
        "                         4      NaN\n",
        "                         5       20\n",
        "              England    1       14\n",
        "                         2      NaN\n",
        "                         4      NaN\n",
        "                         5      NaN\n",
        "              Germany    1      NaN\n",
        "                         2      NaN\n",
        "                         4       18\n",
        "                         5      NaN\n",
        "              Italy      1      NaN\n",
        "                         2      NaN\n",
        "                         4       18\n",
        "                         5      NaN\n",
        "              Spain      1       14\n",
        "                         2      NaN\n",
        "                         4      NaN\n",
        "                         5      NaN\n",
        "              Uruguay    1       12\n",
        "                         2      NaN\n",
        "                         4      NaN\n",
        "                         5      NaN\n",
        "runnerup      Argentina  1      NaN\n",
        "                         2        5\n",
        "                         4      NaN\n",
        "                         5      NaN\n",
        "              Brazil     1      NaN\n",
        "                         2      NaN\n",
        "                         4      NaN\n",
        "                         5        7\n",
        "              England    1        1\n",
        "                         2      NaN\n",
        "                         4      NaN\n",
        "                         5      NaN\n",
        "              Germany    1      NaN\n",
        "                         2      NaN\n",
        "                         4        8\n",
        "                         5      NaN\n",
        "              Italy      1      NaN\n",
        "                         2      NaN\n",
        "                         4        6\n",
        "                         5      NaN\n",
        "              Spain      1        1\n",
        "                         2      NaN\n",
        "                         4      NaN\n",
        "                         5      NaN\n",
        "              Uruguay    1        2\n",
        "                         2      NaN\n",
        "                         4      NaN\n",
        "                         5      NaN\n",
        "Length: 56, dtype: float64"
       ]
      }
     ],
     "prompt_number": 210
    },
    {
     "cell_type": "code",
     "collapsed": false,
     "input": [
      "pivoted.stack()\n",
      "# (wins, names) \u0995\u09c7 \u09a7\u09b0\u09c7 \u09a1\u09be\u099f\u09be\u09b0 \u099a\u09c7\u09b9\u09be\u09b0\u09be, unstack \u09b9\u09df\u09c7\u099b\u09c7 \u0995\u09b2\u09df\u09be\u09aa\u09cd\u09b8\u09c7\u09a1\u0964 stack \u09b8\u09ae\u09b8\u09cd\u09a4 N/A \u0995\u09c7 \u099a\u09c1\u09aa\u09b8\u09c7 \u09a6\u09bf\u09df\u09c7\u099b\u09c7\u0964"
     ],
     "language": "python",
     "metadata": {},
     "outputs": [
      {
       "html": [
        "<div style=\"max-height:1000px;max-width:1500px;overflow:auto;\">\n",
        "<table border=\"1\" class=\"dataframe\">\n",
        "  <thead>\n",
        "    <tr style=\"text-align: right;\">\n",
        "      <th></th>\n",
        "      <th></th>\n",
        "      <th>continent</th>\n",
        "      <th>participated</th>\n",
        "      <th>runnerup</th>\n",
        "    </tr>\n",
        "    <tr>\n",
        "      <th>wins</th>\n",
        "      <th>names</th>\n",
        "      <th></th>\n",
        "      <th></th>\n",
        "      <th></th>\n",
        "    </tr>\n",
        "  </thead>\n",
        "  <tbody>\n",
        "    <tr>\n",
        "      <th rowspan=\"3\" valign=\"top\">1</th>\n",
        "      <th>England</th>\n",
        "      <td>  E</td>\n",
        "      <td> 14</td>\n",
        "      <td> 1</td>\n",
        "    </tr>\n",
        "    <tr>\n",
        "      <th>Spain</th>\n",
        "      <td>  E</td>\n",
        "      <td> 14</td>\n",
        "      <td> 1</td>\n",
        "    </tr>\n",
        "    <tr>\n",
        "      <th>Uruguay</th>\n",
        "      <td> SA</td>\n",
        "      <td> 12</td>\n",
        "      <td> 2</td>\n",
        "    </tr>\n",
        "    <tr>\n",
        "      <th>2</th>\n",
        "      <th>Argentina</th>\n",
        "      <td> SA</td>\n",
        "      <td> 16</td>\n",
        "      <td> 5</td>\n",
        "    </tr>\n",
        "    <tr>\n",
        "      <th rowspan=\"2\" valign=\"top\">4</th>\n",
        "      <th>Germany</th>\n",
        "      <td>  E</td>\n",
        "      <td> 18</td>\n",
        "      <td> 8</td>\n",
        "    </tr>\n",
        "    <tr>\n",
        "      <th>Italy</th>\n",
        "      <td>  E</td>\n",
        "      <td> 18</td>\n",
        "      <td> 6</td>\n",
        "    </tr>\n",
        "    <tr>\n",
        "      <th>5</th>\n",
        "      <th>Brazil</th>\n",
        "      <td> SA</td>\n",
        "      <td> 20</td>\n",
        "      <td> 7</td>\n",
        "    </tr>\n",
        "  </tbody>\n",
        "</table>\n",
        "</div>"
       ],
       "output_type": "pyout",
       "prompt_number": 214,
       "text": [
        "               continent  participated  runnerup\n",
        "wins names                                      \n",
        "1    England           E            14         1\n",
        "     Spain             E            14         1\n",
        "     Uruguay          SA            12         2\n",
        "2    Argentina        SA            16         5\n",
        "4    Germany           E            18         8\n",
        "     Italy             E            18         6\n",
        "5    Brazil           SA            20         7"
       ]
      }
     ],
     "prompt_number": 214
    },
    {
     "cell_type": "markdown",
     "metadata": {},
     "source": [
      "\u09a1\u09be\u099f\u09be\u09ab\u09cd\u09b0\u09c7\u09ae\u09c7\u09b0 \u09b6\u09c7\u09b7 \u098f\u0996\u09be\u09a8\u09c7\u0987 \u09a8\u09be, \u0986\u09b0\u0993 \u0986\u09b2\u09cb\u099a\u09a8\u09be \u09b9\u09ac\u09c7 \u09aa\u09b0\u09ac\u09b0\u09cd\u09a4\u09c0 \u09aa\u09cb\u09b8\u09cd\u099f\u0997\u09c1\u09b2\u09a4\u09c7\u0964 \u09b6\u09c7\u09b7 \u0995\u09b0\u09be\u09b0 \u0986\u0997\u09c7 \u09a6\u09c7\u0996\u09c7 \u09a8\u09c7\u0987 \u0995\u09bf \u0995\u09bf \u09a1\u09bf\u09b8\u0995\u09be\u09b8 \u09b9\u09b2 \u098f\u0996\u09be\u09a8\u09c7\n",
      "\n",
      "* \u09a1\u09be\u099f\u09be\u09ab\u09cd\u09b0\u09c7\u09ae \u0995\u09bf\u0964\n",
      "* \u09a1\u09be\u099f\u09be\u09ab\u09cd\u09b0\u09c7\u09ae \u09ac\u09bf\u09ad\u09bf\u09a8\u09cd\u09a8\u09ad\u09be\u09ac\u09c7 \u09b8\u09c3\u09b7\u09cd\u099f \u09b9\u09a4\u09c7 \u09aa\u09be\u09b0\u09c7\u0964 \u09a6\u09cd\u09ac\u09bf\u09ae\u09be\u09a4\u09cd\u09b0\u09bf\u0995 \u0985\u09cd\u09af\u09be\u09b0\u09c7 \u0985\u09a5\u09ac\u09be \u09a1\u09bf\u0995\u09b6\u09a8\u09be\u09b0\u09bf\u09b0 \u09ae\u09be\u09a7\u09cd\u09af\u09ae\u09c7\u0964\n",
      "* \u09a1\u09be\u099f\u09be\u09ab\u09cd\u09b0\u09c7\u09ae\u09c7\u09b0 \u0989\u09aa\u09b0 \u0986\u09aa\u09a8\u09bf \u09ac\u09bf\u09ad\u09bf\u09a8\u09cd\u09a8 \u09ab\u09be\u0982\u09b6\u09a8 \u0995\u09b2 \u098f\u09ac\u0982 \u0985\u09aa\u09be\u09b0\u09c7\u09b6\u09be\u09a8 \u0995\u09b0\u09a4\u09c7 \u09aa\u09be\u09b0\u09c7\u09a8\u0964\n",
      "* ix \u09ab\u09be\u0982\u09b6\u09a8\u09c7\u09b0 \u09ae\u09be\u09a7\u09cd\u09af\u09ae\u09c7 \u0987\u09a8\u09cd\u09a1\u09c7\u0995\u09cd\u09b8\u09bf\u0982 \u0995\u09b0\u09be \u09af\u09be\u09df \u09a0\u09bf\u0995 \u09a8\u09be\u09ae\u09aa\u09be\u0987 \u0985\u09cd\u09af\u09be\u09b0\u09c7\u09b0 \u09ae\u09a4\u0987\u0964 \u0995\u09b2\u09be\u09ae \u0993 \u0987\u09a8\u09a1\u09c7\u0995\u09cd\u09b8 \u09a6\u09bf\u09df\u09c7 \u0986\u09aa\u09a8\u09bf [] \u098f\u09b0 \u0995\u09be\u099c \u0995\u09b0\u09a4\u09c7 \u09aa\u09be\u09b0\u09c7\u09a8\u0964\n",
      "* \u09aa\u09cd\u09b2\u099f\u09bf\u0982 \u0995\u09b0\u09be \u09af\u09be\u09df \u09a1\u09be\u099f\u09be\u09ab\u09cd\u09b0\u09c7\u09ae\u09c7\u09b0 \u09ae\u09be\u09a7\u09cd\u09af\u09ae\u09c7\u0964 \u0986\u09b0 axis \u09a6\u09bf\u09df\u09c7 \u0986\u09aa\u09a8\u09bf \u09dc\u09cb/\u0995\u09b2\u09be\u09ae\u0995\u09c7 \u09ae\u09c1\u0996\u09cd\u09af \u09a7\u09b0\u09c7 \u09a8\u09bf\u09a4\u09c7 \u09aa\u09be\u09b0\u09c7\u09a8\u0964 \n",
      "* \u09b8\u09ac \u09b6\u09c7\u09b7\u09c7 \u0986\u09ae\u09b0\u09be \u0995\u09bf\u099b\u09c1\u099f\u09be \u09a6\u09c7\u0996\u09c7\u099b\u09bf \u09aa\u09bf\u09ad\u099f \u099f\u09c7\u09ac\u09cd\u09b2\u0964 \u098f\u09b0 \u0989\u09aa\u09b0 \u0986\u09b0\u0993 \u0995\u09be\u099c \u09b9\u09ac\u09c7\u0964 \u0986\u09ae\u09bf \u0995\u09cb\u09a8 \u09ad\u09be\u09b2 \u09a1\u09be\u099f\u09be (\u09af\u09be \u0986\u09ae\u09be\u09b0 \u0985\u09ab\u09bf\u09b8 \u098f\u09b0 \u09a8\u09be\u0964 \u0986\u09b2\u09b8\u09cd\u09af!!!) \u09aa\u09be\u0987 \u09a8\u09be\u0987, \u09a4\u09be \u09aa\u09c7\u09b2\u09c7 \u0986\u09b0\u0993 \u09ad\u09be\u09b2\u09ad\u09be\u09ac\u09c7 \u09ac\u09b2\u09be \u09af\u09c7\u09a4\u0964\n",
      "\n",
      "\u0986\u0997\u09be\u09ae\u09c0\u09a4\u09c7 \u0986\u09ae\u09bf \u09a1\u09be\u099f\u09be \u0995\u09be\u09b2\u09c7\u0995\u09b6\u09a8 \u09a8\u09bf\u09df\u09c7 \u0995\u09a5\u09be \u09ac\u09b2\u09ac\u09a4 \u0995\u09bf\u099b\u09c1, \u0986\u09b0\u0993 \u0995\u09bf\u099b\u09c1 \u0995\u09a5\u09be \u09ac\u09b2\u09ac \u09aa\u09bf\u09ad\u099f \u09a8\u09bf\u09df\u09c7 \u09b9\u09df\u09a4\u0964 \u0986\u09b0 \u0995\u09a5\u09be \u09ac\u09b2\u09ac \u0997\u09cd\u09b0\u0989\u09aa\u09bf\u0982 \u09a8\u09bf\u09df\u09c7\u0964 \u09a4\u09cb \u09a6\u09c7\u0996\u09be \u09b9\u09ac\u09c7 \u0986\u0997\u09be\u09ae\u09c0\u0995\u09be\u09b2\u0964 "
     ]
    }
   ],
   "metadata": {}
  }
 ]
}