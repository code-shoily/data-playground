{
 "metadata": {
  "name": "\u09aa\u09be\u09a8\u09cd\u09a1\u09be\u09b8 \u09aa\u09b0\u09bf\u099a\u09bf\u09a4\u09bf \u09e7"
 },
 "nbformat": 3,
 "nbformat_minor": 0,
 "worksheets": [
  {
   "cells": [
    {
     "cell_type": "markdown",
     "metadata": {},
     "source": [
      "#\u09aa\u09be\u09a8\u09cd\u09a1\u09be\u09b8 \u09aa\u09b0\u09bf\u099a\u09bf\u09a4\u09bf \u09e7\n",
      "\n",
      "\u0997\u09a4 \u09e8 \u09a6\u09bf\u09a8 [\u09a8\u09be\u09ae\u09aa\u09be\u0987](http://goo.gl/gMkxo2) \u0993 [\u09ae\u09cd\u09af\u09be\u099f\u09aa\u09cd\u09b2\u099f\u09b2\u09bf\u09ac](http://goo.gl/unYD3g) \u09a8\u09bf\u09df\u09c7 \u09b2\u09bf\u0996\u09be\u09b0 \u09aa\u09b0 \u0986\u099c\u0995\u09c7 \u09b2\u09bf\u0996\u09ac \u09aa\u09be\u09a8\u09cd\u09a1\u09be\u09b8 \u09a8\u09bf\u09df\u09c7\u0964 \u09aa\u09be\u0987\u09a5\u09a8 \u09a1\u09be\u099f\u09be \u09ac\u09bf\u09b6\u09cd\u09b2\u09c7\u09b7\u09a3\u09c7\u09b0 \u098f\u0995\u099f\u09bf \u0997\u09c1\u09b0\u09c1\u09a4\u09cd\u09ac\u09aa\u09c2\u09b0\u09cd\u09a3 \u099f\u09c1\u09b2 \u098f\u099f\u09bf\u0964 \u098f\u09b0 \u09ae\u09be\u09a7\u09cd\u09af\u09ae\u09c7 \u09af\u09c7 \u0995\u09cb\u09a8 \u09a1\u09be\u099f\u09be\u0995\u09c7 \u0986\u09aa\u09a8\u09bf \u09ac\u09bf\u09b6\u09c7\u09b7 \u0985\u09ac\u0995\u09be\u09a0\u09be\u09ae\u09cb \u09a6\u09bf\u09a4\u09c7 \u09aa\u09be\u09b0\u09ac\u09c7\u09a8 \u09af\u09be\u09b0 \u09ab\u09b2\u09c7 \u09b8\u09c7\u0987 \u09a1\u09be\u099f\u09be \u09a5\u09c7\u0995\u09c7 \u0986\u09aa\u09a8\u09bf \u0986\u09aa\u09a8\u09be\u09b0 \u09ae\u09a8 \u09ae\u09a4 \u09a4\u09a5\u09cd\u09af \u09b8\u09b9\u099c\u09c7 \u09ac\u09c7\u09b0 \u0995\u09b0\u09c7 \u0986\u09a8\u09cd\u09a4\u09c7 \u09aa\u09be\u09b0\u09ac\u09c7\u09a8\u0964 \u09af\u09c7\u0996\u09be\u09a8\u09c7 \u09aa\u09be\u09a8\u09cd\u09a1\u09be\u09b8 \u099b\u09be\u09dc\u09be \u09ac\u09b9\u09c1 \u09ab\u09be\u0982\u09b6\u09a8\u09c7\u09b0 \u09b8\u09be\u09b9\u09be\u09af\u09cd\u09af \u09a8\u09bf\u09a4\u09c7 \u09b9\u09a4 \u0986\u09b0 \u0985\u09a8\u09c7\u0995 \u09aa\u09cd\u09b0\u09cb\u0997\u09cd\u09b0\u09be\u09ae\u09bf\u0982 \u09a8\u09bf\u099c\u09c7\u0995\u09c7\u0987 \u0995\u09b0\u09a4\u09c7 \u09b9\u09a4, \u09aa\u09be\u09a8\u09cd\u09a1\u09be\u09b8 \u09a5\u09c7\u0995\u09c7 \u0986\u09aa\u09a8\u09bf \u09aa\u09be\u099a\u09cd\u099b\u09c7\u09a8 \u09a1\u09be\u099f\u09be \u098f\u0995\u09cd\u09b8\u09aa\u09cd\u09b2\u09b0\u09c7\u09b6\u09a8\u09c7\u09b0 \u099c\u09a8\u09cd\u09af \u09af\u09c1\u09a6\u09b6\u0987 \u098f\u0995\u0997\u09be\u09a6\u09be \u09ab\u09be\u0982\u09b6\u09a8 \u0993 \u0995\u09be\u09b0\u09cd\u09af\u09aa\u09cd\u09b0\u09a3\u09be\u09b2\u09c0\u0964 \u09af\u09be \u09ae\u09c7\u09a8\u09c7 \u099a\u09b2\u09b2\u09c7 \u0986\u09aa\u09a8\u09be\u09b0 \u09a1\u09be\u099f\u09be \u09a8\u09bf\u09df\u09c7 \u0996\u09c7\u09b2\u09be \u0995\u09b0\u09be\u09b0 \u09ae\u099c\u09be \u09af\u09c7\u09ae\u09a8 \u09ac\u09be\u09dc\u09ac\u09c7, \u09a4\u09be\u09b0 \u09b8\u09be\u09a5\u09c7 \u09ac\u09be\u09dc\u09ac\u09c7 \u09a1\u09be\u099f\u09be \u09a5\u09c7\u0995\u09c7 \u09a4\u09a5\u09cd\u09af\u09c7 \u09aa\u09b0\u09bf\u09a3\u09a4 \u0995\u09b0\u09be\u09b0 \u09a6\u09cd\u09b0\u09c1\u09a4\u09bf (\u09aa\u09cd\u09b0\u09cb\u0997\u09cd\u09b0\u09be\u09ae\u09be\u09b0 \u0993 \u09aa\u09cd\u09b0\u09cb\u0997\u09cd\u09b0\u09be\u09ae\u09bf\u0982 \u09a6\u09cd\u09b0\u09c1\u09a4\u09bf \u09a6\u09c1\u099f\u09cb\u0987)\u0964\n",
      "\n",
      "\u09aa\u09be\u09a8\u09cd\u09a1\u09be\u09b8 (pandas) \u09a8\u09be\u09ae\u099f\u09bf \u098f\u09b8\u09c7\u099b\u09c7 \u09aa\u09cd\u09af\u09be\u09a8\u09c7\u09b2 (PANel) \u0993 \u09a1\u09c7\u099f\u09be (DAta) \u098f\u09b0 \u09b8\u09be\u09a5\u09c7 \u09aa\u09cd\u09b2\u09c1\u09b0\u09be\u09b2 s \u09af\u09c1\u0995\u09cd\u09a4 \u0995\u09b0\u09c7\u0964 \u098f\u099f\u09bf \u09ae\u09c2\u09b2\u09a4 \u09af\u09c7 \u0995\u09cb\u09a8 \u09b8\u09cb\u09b0\u09cd\u09b8 \u09a5\u09c7\u0995\u09c7 \u09a1\u09be\u099f\u09be \u09a8\u09c7\u09df \u0986\u09b0 \u0986\u09aa\u09a8\u09be\u09b0 \u09ab\u09be\u0982\u09b6\u09a8 \u0995\u09b2 \u0985\u09a8\u09c1\u09af\u09be\u09df\u09c0 \u09b8\u09c7\u0987 \u09a1\u09be\u099f\u09be\u0995\u09c7 \u09a8\u09bf\u099c\u09c7\u09b0 \u0995\u09bf\u099b\u09c1 \u0989\u09aa\u09be\u09a4\u09cd\u09a4 \u0995\u09be\u09a0\u09be\u09ae\u09a4\u09c7 \u09ab\u09be\u09b2\u09bf\u09df\u09c7 \u09a6\u09c7\u09df, \u09af\u09be\u09b0 \u0989\u09aa\u09b0 \u0986\u09aa\u09a8\u09bf \u09a1\u09be\u099f\u09be\u09ac\u09c7\u09b8\u09c7\u09b0 \u09ae\u09a4 \u0985\u09aa\u09be\u09b0\u09c7\u09b6\u09be\u09a8 \u099a\u09be\u09b2\u09be\u09a4\u09c7 \u09aa\u09be\u09b0\u09ac\u09c7\u09a8\u0964 \u0989\u09a6\u09be\u09b9\u09b0\u09a3\u09b8\u09cd\u09ac\u09b0\u09c2\u09aa, \u09a7\u09b0\u09c1\u09a8 \u0986\u09aa\u09a8\u09bf \u0995\u09cb\u09a8 \u0993\u09df\u09c7\u09ac\u09b8\u09be\u0987\u099f \u09b8\u09cd\u0995\u09cd\u09b0\u09c7\u09aa \u0995\u09b0\u09c7 \u0995\u09bf\u099b\u09c1 \u099f\u09cd\u09af\u09be\u09ac\u09c1\u09b2\u09be\u09b0 \u09a1\u09be\u099f\u09be \u09aa\u09c7\u09df\u09c7\u099b\u09c7\u09a8 \u09af\u09be \u09a6\u09cd\u09ac\u09bf\u09ae\u09be\u09a4\u09cd\u09b0\u09bf\u0995 \u098f\u09ac\u0982 \u09af\u09c7\u0996\u09be\u09a8\u09c7 \u09ac\u09c7\u09b6 \u0995\u09bf\u099b\u09c1 \u09ae\u09bf\u09b8\u09bf\u0982 \u09b8\u09c7\u09b2 \u09b0\u09df\u09c7\u099b\u09c7, \u0986\u09ac\u09be\u09b0 \u099f\u09c7\u09ac\u09cd\u09b2 \u09b8\u0982\u0996\u09cd\u09af\u09be\u0993 \u098f\u0995\u09be\u09a7\u09bf\u0995 \u09af\u09be\u09a6\u09c7\u09b0 \u09ae\u09a7\u09cd\u09af\u09c7 \u0995\u09ae\u09a8 \u09b8\u09a6\u09b8\u09cd\u09af \u0986\u099b\u09c7\u0964 \u0986\u09aa\u09a8\u09bf \u09b8\u09c7\u0987 \u09a1\u09be\u099f\u09be \u09a5\u09c7\u0995\u09c7 \u0987\u09a8\u09ab\u09b0\u09cd\u09ae\u09c7\u09b6\u09a8 \u09ac\u09c7\u09b0 \u0995\u09b0\u09a4\u09c7 \u099a\u09be\u09a8, \u0985\u09b0\u09cd\u09a5\u09be\u09ce \u09a1\u09be\u099f\u09be\u09b0 \"\u09ae\u09b0\u09cd\u09ae\" \u09ac\u09c7\u09b0 \u0995\u09b0\u09a4\u09c7 \u099a\u09be\u09a8\u0964 \u09aa\u09be\u09a8\u09cd\u09a1\u09be\u09b8 \u0995\u09bf\u09ad\u09be\u09ac\u09c7 \u09b8\u09be\u09b9\u09be\u09af\u09cd\u09af \u0995\u09b0\u09a4\u09c7 \u09aa\u09be\u09b0\u09c7 \u0986\u09aa\u09a8\u09be\u0995\u09c7 \u098f\u0996\u09be\u09a8\u09c7? \n",
      "\n",
      "* \u09aa\u09cd\u09b0\u09a5\u09ae\u09c7 \u0986\u09b8\u09bf \u09a1\u09be\u099f\u09be \u0995\u09be\u09b2\u09c7\u0995\u09b6\u09a8\u09c7, \u0986\u09aa\u09a8\u09bf \u0995\u09bf \u0995\u09bf \u09ad\u09be\u09ac\u09c7 \u09a1\u09be\u099f\u09be \u09aa\u09c7\u09a4\u09c7 \u09aa\u09be\u09b0\u09c7\u09a8? \u09aa\u09be\u0987\u09a5\u09a8\u09c7\u09b0 \u09ac\u09c7\u09b6 \u09ad\u09be\u09b2 \u0995\u09bf\u099b\u09c1 \u0993\u09df\u09c7\u09ac\u09b8\u09be\u0987\u099f \u09b8\u09cd\u0995\u09cd\u09b0\u09c7\u09aa\u09bf\u0982 \u099f\u09c1\u09b2 \u09b0\u09df\u09c7\u099b\u09c7, \u0993\u0997\u09c1\u09b2\u09cb \u09a5\u09c7\u0995\u09c7 \u0986\u09aa\u09a8\u09bf \u0986\u09aa\u09a8\u09be\u09b0 \u09a1\u09be\u099f\u09be\u0995\u09c7 csv, excel \u0987\u09a4\u09cd\u09af\u09be\u09a6\u09bf \u09ab\u09b0\u09ae\u09cd\u09af\u09be\u099f\u09c7 \u09ab\u09c7\u09b2\u09a4\u09c7 \u09aa\u09be\u09b0\u09c7\u09a8\u0964 \u0996\u09c7\u09df\u09be\u09b2 \u09b0\u09be\u0996\u09a4\u09c7 \u09b9\u09ac\u09c7 \u09af\u09c7, \u09a1\u09be\u099f\u09be\u09ac\u09c7\u099c\u09c7 \u09af\u09c7\u09ae\u09a8 \u09a1\u09be\u099f\u09be \u0997\u09a0\u09bf\u09a4 \u09a5\u09be\u0995\u09c7 \u0985\u09a5\u09ac\u09be \u0986\u09aa\u09a8\u09bf \u0985\u09a8\u09cd\u09a4\u09a4 \u09aa\u0995\u09cd\u09b7\u09c7 \u09a1\u09be\u099f\u09be\u09b0 \u0985\u09ac\u0995\u09be\u09a0\u09be\u09ae\u09cb \u099c\u09be\u09a8\u09a4\u09c7 \u09aa\u09be\u09b0\u09c7\u09a8, \u098f\u0987 \u09a6\u09c1\u09a8\u09bf\u09df\u09be\u09a4\u09c7 \u09a4\u09be \u0995\u09bf\u09a8\u09cd\u09a4\u09c1 \u09a8\u09be, \u0986\u09aa\u09a8\u09bf \u098f\u0995 \u09a8\u099c\u09b0\u09c7 \u0986\u09aa\u09a8\u09be\u09b0 \u09b8\u09cb\u09b0\u09cd\u09b8 (\u0993\u09df\u09c7\u09ac\u09b8\u09be\u0987\u099f, \u0995\u09aa\u09bf \u09aa\u09c7\u0987\u09b8\u09cd\u099f \u0995\u09b0\u09be \u09a1\u09be\u099f\u09be \u0987\u09a4\u09cd\u09af\u09be\u09a6\u09bf) \u09a6\u09c7\u0996\u09c7 \u099c\u09be\u0987 \u09ac\u09c1\u099d\u09ac\u09c7\u09a8 \u09a8\u09be \u0995\u09c7\u09a8, \u0985\u0987 \u09a1\u09be\u099f\u09be\u09b0 \u09ae\u09be\u099d\u0996\u09be\u09a8\u09c7 \u0995\u09cb\u09a8 \u0997\u09cd\u09af\u09be\u09aa \u0986\u099b\u09c7 \u0995\u09bf\u09a8\u09be, \u0986\u09b0 \u0995\u09cb\u09a8 \u09ad\u09cd\u09af\u09be\u09b2\u09bf\u09a1\u09c7\u09b6\u09a8 \u0995\u09be\u09a0\u09be\u09ae \u09ab\u09b2\u09cb \u0995\u09b0\u09a4\u09c7\u099b\u09c7 \u0995\u09bf\u09a8\u09be \u09a4\u09be \u0995\u09bf\u09a8\u09cd\u09a4\u09c1 \u0995\u09cb\u09a8 \u0997\u09cd\u09af\u09be\u09b0\u09be\u09a8\u09cd\u099f\u09bf \u09a6\u09bf\u09df\u09c7 \u09ac\u09b2\u09be \u09b9\u09df\u09a8\u09bf\u0964 \u0986\u09b0 \u09ae\u09be\u099d\u09c7 \u09ae\u09be\u099d\u09c7 \u0986\u09aa\u09a8\u09bf \u09b9\u09df\u09a4 \u09b2\u09be\u0995\u09bf \u09b9\u09a4\u09c7 \u09aa\u09be\u09b0\u09c7\u09a8 \u09af\u0996\u09a8 API \u098f\u09b0 \u09ac\u09a6\u09cc\u09b2\u09a4\u09c7 JSON, YAML, XML, \u0987\u09a4\u09cd\u09af\u09be\u09a6\u09bf \u09a1\u09be\u099f\u09be \u09aa\u09be\u099a\u09cd\u099b\u09c7\u09a8 \u0995\u09bf\u09a8\u09cd\u09a4\u09c1 \u09af\u0996\u09a8 \u09ae\u09be\u09b2\u09cd\u099f\u09bf\u09aa\u09b2 \u09b8\u09cb\u09b0\u09cd\u09b8 \u09a5\u09c7\u0995\u09c7 \u0986\u09b8\u09ac\u09c7? \u098f\u0996\u09be\u09a8\u09c7 \u0986\u0997\u09c7 \u09a1\u09be\u099f\u09be \u09aa\u09be\u09ac\u09c7\u09a8, \u098f\u09b0\u09aa\u09b0 \u0995\u09be\u09a0\u09be\u09ae \u09ac\u09c1\u099d\u09ac\u09c7\u09a8, \u0995\u09be\u099c\u09c7\u0987 \u09b0\u09bf\u09b2\u09c7\u09b6\u09a8\u09be\u09b2 \u09a1\u09be\u099f\u09be\u09ac\u09c7\u099c \u09a6\u09bf\u09df\u09c7 \u09a4\u09c7\u09ae\u09a8 \u09ab\u09be\u09df\u09a6\u09be \u09b9\u09ac\u09c7 \u09a8\u09be, \u09b9\u09b2\u09c7\u0993 \u0986\u09aa\u09a8\u09be\u0995\u09c7 \u09b8\u09c7\u0987\u09b0\u0995\u09ae \u09b2\u09c7\u09ad\u09c7\u09b2\u09c7 \u09ae\u09be\u0987\u0997\u09cd\u09b0\u09c7\u09b6\u09a8\u09c7\u09b0 \u09aa\u09cd\u09b0\u09b8\u09cd\u09a4\u09c1\u09a4\u09bf \u09a8\u09bf\u09a4\u09c7 \u09b9\u09ac\u09c7 \u09af\u09be \u0985\u09a8\u09c7\u0995 \u09ac\u09c7\u09a6\u09a8\u09be\u09a6\u09be\u09df\u0995\u0964 \u09aa\u09be\u09a8\u09cd\u09a1\u09be\u09b8 \u0986\u09aa\u09a8\u09be\u0995\u09c7 \u09a6\u09bf\u09df\u09c7\u099b\u09c7 \u0995\u09bf\u099b\u09c1 \u09ab\u09be\u0982\u09b6\u09a8 \u09af\u09be \u09a6\u09bf\u09df\u09c7 \u0986\u09aa\u09a8\u09bf \u09ac\u09bf\u09ad\u09bf\u09a8\u09cd\u09a8 \u09b8\u09cb\u09b0\u09cd\u09b8 \u09a5\u09c7\u0995\u09c7 \u09a1\u09be\u099f\u09be \u09a8\u09bf\u09df\u09c7 \u09aa\u09be\u09a8\u09cd\u09a1\u09be\u09b8 \u09b0\u09bf\u09a1\u09be\u09ac\u09cd\u09b2 \u0995\u09b0\u09c7 \u09ae\u09a7\u09cd\u09af\u09ac\u09b0\u09cd\u09a4\u09c0 \u0995\u09bf\u099b\u09c1 \u09a1\u09be\u099f\u09be \u0995\u09be\u09a0\u09be\u09ae\u09cb\u09a4\u09c7 \u09ab\u09c7\u09b2\u09a4\u09c7 \u09aa\u09be\u09b0\u09ac\u09c7\u09a8\u0964\n",
      "\n",
      "* \u09aa\u09be\u09a8\u09cd\u09a1\u09be\u09b8\u09c7\u09b0 \u09a8\u09bf\u099c\u09b8\u09cd\u09ac \u0995\u09bf\u099b\u09c1 \u0989\u09aa\u09be\u09a4\u09cd\u09a4 \u0995\u09be\u09a0\u09be\u09ae \u09b0\u09df\u09c7\u099b\u09c7, \u09af\u09be \u09a1\u09be\u099f\u09be \u09ac\u09bf\u09b6\u09cd\u09b2\u09c7\u09b7\u09a3\u0995\u09c7 \u09b8\u09b9\u099c\u09a4\u09b0 \u0995\u09b0\u09c7, \u098f\u09b0\u09be \u09b9\u09b2 \u09ae\u09a7\u09cd\u09af\u09ac\u09b0\u09cd\u09a4\u09c0 \u0985\u09ac\u09b8\u09cd\u09a5\u09be, \u09b8\u09cb\u09b0\u09cd\u09b8 \u09a5\u09c7\u0995\u09c7 \u09a1\u09be\u099f\u09be \u09b9\u099c\u09ae \u0995\u09b0\u09c7 \u0986\u09aa\u09a8\u09be\u0995\u09c7 \u09a6\u09bf\u09ac\u09c7 \u0996\u09c7\u09b2\u09be \u0995\u09b0\u09be\u09b0 \u09b8\u09c1\u09af\u09cb\u0997, \u0986\u09b0 \u098f\u0995\u0987 \u09b8\u09be\u09a5\u09c7 \u098f\u09b0\u09be \u0996\u09c1\u09ac \u09b8\u09b9\u099c\u09c7 \u09ae\u09cd\u09af\u09be\u099f\u09aa\u09cd\u09b2\u099f\u09b2\u09bf\u09ac \u099a\u09bf\u09a4\u09cd\u09b0\u09c7 \u09aa\u09b0\u09bf\u09a3\u09a4 \u09b9\u09a4\u09c7 \u09aa\u09be\u09b0\u09c7, \u0986\u09b0 \u09b8\u09b0\u09cd\u09ac\u09cb\u09aa\u09b0\u09bf, \u0995\u09be\u099c \u09b6\u09c7\u09b7\u09c7 \u09aa\u09b0\u09bf\u09a3\u09a4 \u09b9\u09a4\u09c7 \u09aa\u09be\u09b0\u09c7 \u09af\u09c7 \u0995\u09cb\u09a8 \u09ab\u09b0\u09ae\u09cd\u09af\u09be\u099f\u09c7, \u09a4\u09be \u09a1\u09be\u099f\u09be\u09ac\u09c7\u099c \u09b9\u09cb\u0995, \u098f\u0995\u09cd\u09b8\u09c7\u09b2 \u09b9\u09cb\u0995, \u0986\u09b0 \u09b9\u09cb\u0995 \u098f\u0987\u099a\u099f\u09bf\u098f\u09ae\u098f\u09b2\u0964 \u09a1\u09be\u099f\u09be \u098f\u0995\u09cd\u09b8\u09aa\u09cd\u09b2\u09b0\u09c7\u09b6\u09a8\u09c7\u09b0 \u099c\u09a8\u09cd\u09af \u0985\u09a8\u09c7\u0995 \u0997\u09c1\u09b0\u09c1\u09a4\u09cd\u09ac\u09aa\u09c2\u09b0\u09cd\u09a3 \u098f\u0987\u09b8\u09ac \u09a1\u09be\u099f\u09be \u09b8\u09cd\u099f\u09cd\u09b0\u09be\u0995\u099a\u09be\u09b0\u0964\n",
      "\n",
      "* \u09a1\u09be\u099f\u09be \u09b8\u09cd\u099f\u09cd\u09b0\u09be\u0995\u099a\u09be\u09b0 \u09ae\u09be\u09a8\u09c7\u0987 \u0997\u09a0\u09a8, \u09ae\u09bf\u09b6\u09cd\u09b0\u09a3, \u09b8\u09ae\u09cd\u09aa\u09b0\u09cd\u0995\u0964 \u098f\u0987\u0997\u09c1\u09b2\u09cb \u09b8\u09ac \u0986\u09aa\u09a8\u09bf \u09aa\u09be\u0987\u09a5\u09a8 \u09aa\u09cd\u09b0\u09cb\u0997\u09cd\u09b0\u09be\u09ae\u09bf\u0982 \u09a6\u09bf\u09df\u09c7 \u0995\u09b0\u09a4\u09c7 \u09aa\u09be\u09b0\u099b\u09c7\u09a8 \u0989\u09aa\u09b0\u09bf\u0989\u0995\u09cd\u09a4 \u0995\u09be\u09a0\u09be\u09ae\u0997\u09c1\u09b2\u09cb\u09a4\u09c7, \u0986\u09ac\u09be\u09b0, \u098f\u09a6\u09c7\u09b0 \u09b8\u09be\u09b0\u09ae\u09b0\u09cd\u09ae \u0985\u09b0\u09cd\u09a5\u09be\u09ce \u09aa\u09b0\u09bf\u09b8\u0982\u0996\u09cd\u09af\u09be\u09a8\u0997\u09a4 \u09a4\u09a5\u09cd\u09af \u09aa\u09c7\u09df\u09c7 \u09af\u09be\u09ac\u09c7\u09a8 \u098f\u0995 \u0995\u09b2\u09ae\u09c7\u0987\u0964 \u09a6\u09c1\u0987\u099f\u09bf \u0986\u09b2\u09be\u09a6\u09be \u0986\u09b2\u09be\u09a6\u09be \u0995\u09be\u09a0\u09be\u09ae\u09a4\u09c7 \u0986\u09aa\u09a8\u09bf \u0997\u09cd\u09b0\u09c1\u09aa\u09bf\u0982 \u0995\u09b0\u09a4\u09c7 \u09aa\u09be\u09b0\u09ac\u09c7\u09a8 \u0986\u09b0 \u099c\u09df\u09c7\u09a8 \u0995\u09b0\u09a4\u09c7 \u09aa\u09be\u09b0\u09ac\u09c7\u09a8 \u09b0\u09bf\u09b2\u09c7\u09b6\u09a8\u09be\u09b2 \u09a1\u09be\u099f\u09be\u09ac\u09c7\u099c\u09c7\u09b0 \u09ae\u09a4\u0987, \u09a4\u09be\u09b0 \u0989\u09aa\u09b0 \u0986\u09ac\u09be\u09b0 \u09aa\u09be\u0987\u09a5\u09a8 \u09ab\u09be\u0982\u09b6\u09a8\u09c7\u09b0 \u09ae\u09be\u09a7\u09cd\u09af\u09ae\u09c7 \u09a1\u09be\u099f\u09be \u09b0\u09c2\u09aa\u09be\u09a8\u09cd\u09a4\u09b0\u0993 \u0985\u09a8\u09c7\u0995 \u09b8\u09b9\u099c \u09b9\u09df\u09c7 \u09af\u09be\u09df\u0964\n",
      "\n",
      "* \u0986\u09ae\u09be\u09b0 \u0986\u0997\u09c7\u09b0 \u098f\u0995\u099f\u09bf \u09aa\u09cb\u09b8\u09cd\u099f\u09c7 \u09ae\u09cd\u09af\u09be\u099f\u09aa\u09cd\u09b2\u099f\u09b2\u09bf\u09ac \u09a8\u09bf\u09df\u09c7 \u0985\u09a8\u09c7\u0995 \u0995\u09a5\u09be \u09ac\u09b2\u09c7\u099b\u09bf\u09b2\u09be\u09ae, \u09ae\u09cd\u09af\u09be\u099f\u09aa\u09cd\u09b2\u099f\u09b2\u09bf\u09ac \u0985\u09a8\u09c7\u0995 \u09b8\u09b9\u099c\u09c7 \u09aa\u09be\u09a8\u09cd\u09a1\u09be\u09b8 \u0995\u09be\u09a0\u09be\u09ae\u0997\u09c1\u09b2\u09cb\u0995\u09c7 \u0986\u0981\u0995\u09a4\u09c7 \u09aa\u09be\u09b0\u09c7\u0964 \u09aa\u09be\u09a8\u09cd\u09a1\u09be\u09b8\u09bf \u0985\u09a8\u09c7\u0995 \u09ac\u09cd\u09af\u09ac\u09b8\u09cd\u09a5\u09be \u09a6\u09bf\u09df\u09c7 \u09a6\u09c7\u09df \u09ae\u09cd\u09af\u09be\u099f\u09aa\u09cd\u09b2\u099f\u09b2\u09bf\u09ac\u09c7 \u0986\u0981\u0995\u09be\u09b0 \u099c\u09a8\u09cd\u09af\u0964\n",
      "\n",
      "* \u0986\u09ae\u09bf \u0986\u09ae\u09be\u09b0 \u09a1\u09be\u099f\u09be \u09b8\u0982\u0995\u09cd\u09b0\u09be\u09a8\u09cd\u09a4 \u09aa\u09cd\u09b0\u09a5\u09ae \u09aa\u09cb\u09b8\u09cd\u099f\u09c7 \u09b2\u09bf\u0996\u09c7\u099b\u09bf\u09b2\u09be\u09ae \u09a8\u09be\u09ae\u09aa\u09be\u0987 \u098f\u09b0 \u0995\u09a5\u09be\u0964 \u0985\u09a4\u09cd\u09af\u09a8\u09cd\u09a4 \u09a6\u09cd\u09b0\u09c1\u09a4 \u0993 \u09b6\u0995\u09cd\u09a4\u09bf\u09b6\u09be\u09b2\u09c0 \u098f\u0987 \u09b2\u09be\u0987\u09ac\u09cd\u09b0\u09c7\u09b0\u09bf\u099f\u09bf \u0995\u09bf\u09a8\u09cd\u09a4\u09c1 \u09aa\u09be\u09a8\u09cd\u09a1\u09be\u09b8\u09c7\u09b0 \u09ad\u09bf\u09a4\u09cd\u09a4\u09bf, \u0995\u09be\u099c\u09c7\u0987 \u09ac\u09c1\u099d\u09be \u09af\u09be\u099a\u09cd\u099b\u09c7, \u09aa\u09be\u09a8\u09cd\u09a1\u09be\u09b8 \u0985\u09a4\u09cd\u09af\u09a8\u09cd\u09a4 \u09aa\u09be\u09b0\u09ab\u09b0\u09ae\u09cd\u09af\u09be\u09a8\u09cd\u099f\u0964\n",
      "\n",
      "* \u098f\u0995 \u0995\u09a5\u09be\u09df, \u0986\u09aa\u09a8\u09be\u09b0 \u09a1\u09be\u099f\u09be \u0995\u09be\u09b2\u09c7\u0995\u09b6\u09a8\u09c7\u09b0 \u09aa\u09b0 \u09af\u09c7 \u0996\u09c7\u09b2\u09be\u09a7\u09c1\u09b2\u09be\u09b0 \u09aa\u09b0\u09cd\u09ac \u09a5\u09be\u0995\u09c7, \u09af\u09be\u09b0 \u09ae\u09be\u09a7\u09cd\u09af\u09ae\u09c7 \u0986\u09aa\u09a8\u09bf \u09a1\u09be\u099f\u09be \u09a5\u09c7\u0995\u09c7 \u0995\u09bf\u099b\u09c1\u099f\u09be \u09ae\u09b0\u09cd\u09ae \u09ac\u09c7\u09b0 \u0995\u09b0\u09c7 \u0986\u09a8\u09c7\u09a8 \u09aa\u09b0\u09ac\u09b0\u09cd\u09a4\u09c0 \u098f\u09a8\u09be\u09b2\u09be\u0987\u09b8\u09bf\u09b8\u09c7\u09b0 \u099c\u09a8\u09cd\u09af\u09c7, \u09b8\u09c7\u0996\u09be\u09a8\u09c7 \u09aa\u09be\u09a8\u09cd\u09a1\u09be\u09b8 \u0985\u09a6\u09cd\u09ac\u09bf\u09a4\u09c0\u09df \u09ad\u09c2\u09ae\u09bf\u0995\u09be \u09b0\u09be\u0996\u09a4\u09c7 \u09aa\u09be\u09b0\u09c7\u0964 \u0986\u09b0 \u09af\u09a6\u09bf \u0986\u09aa\u09a8\u09be\u09b0 \u09ae\u09be\u099d\u09be\u09b0\u09bf \u09a7\u09b0\u09a8\u09c7\u09b0 \u09a1\u09be\u099f\u09be \u09a5\u09be\u0995\u09c7 \u098f\u09ac\u0982 \u0986\u09aa\u09a8\u09bf \u099a\u09be\u09a8 \u09a6\u09cd\u09b0\u09c1\u09a4\u0997\u09a4\u09bf \u09b8\u09ae\u09cd\u09aa\u09a8\u09cd\u09a8 \u09b0\u09bf\u09aa\u09cb\u09b0\u09cd\u099f \u09a6\u09bf\u09a4\u09c7, \u09b8\u09c7\u0996\u09be\u09a8\u09c7\u0993 \u09aa\u09be\u09a8\u09cd\u09a1\u09be\u09b8 \u0986\u09aa\u09a8\u09be\u09b0 \u0996\u09c7\u09b2\u09be\u09b0 \u09b8\u09be\u09a5\u09c0\u0964\n",
      "\n",
      "\u0986\u09ae\u09be\u09b0 \u09ae\u09c7\u09b6\u09bf\u09a8\u09c7 \u09aa\u09be\u09a8\u09cd\u09a1\u09be\u09b8 ```pip install pandas``` \u0995\u09b0\u09be\u09a4\u09c7\u0987 \u09b9\u09df\u09c7 \u0997\u09bf\u09df\u09c7\u099b\u09c7\u0964 \u09af\u09a6\u09bf \u09a8\u09be\u09ae\u09aa\u09be\u0987 \u0986\u09b0 \u09ae\u09cd\u09af\u09be\u099f\u09aa\u09cd\u09b2\u099f\u09b2\u09bf\u09ac \u09a5\u09be\u0995\u09c7 \u0986\u09aa\u09a8\u09be\u09b0 \u0995\u09be\u099b\u09c7, \u09a4\u09be\u09b9\u09b2\u09c7 \u09aa\u09be\u09a8\u09cd\u09a1\u09be\u09b8 \u0987\u09a8\u09cd\u09b8\u099f\u09b2 \u0995\u09b0\u09a4\u09c7 \u098f\u09b0 \u09ac\u09c7\u09b6\u09bf \u0995\u09bf\u099b\u09c1 \u09b2\u09be\u0997\u09be\u09b0 \u0995\u09a5\u09be\u0993 \u09a8\u09be\u0964\n",
      "\n",
      "\u098f\u09ac\u09be\u09b0 \u0995\u09bf\u099b\u09c1 \u0995\u09cb\u09a1\u09bf\u0982 \u09a6\u09c7\u0996\u09be\u09a8 \u09af\u09be\u0995\u0964 (\u0985\u09b0\u09cd\u09a5\u09be\u09ce, ipython notebook --pylab=inline --no-browser \u098f\u09b0 \u0986\u09b8\u09b2 \u0989\u09aa\u0995\u09be\u09b0\u09bf\u09a4\u09be \u09b2\u09cd\u09af\u09be\u09ad \u0995\u09b0\u09be \u09af\u09be\u09ac\u09c7 \u098f\u0996\u09a8 ;) ) "
     ]
    },
    {
     "cell_type": "code",
     "collapsed": false,
     "input": [
      "# pd, np, plt <----- \u098f\u0997\u09c1\u09b2\u09cb \u09b8\u09ac \u09b9\u09b2 \u0995\u09a8\u09ad\u09c7\u09a8\u09b6\u09a8\u0964 \n",
      "import numpy as np\n",
      "from matplotlib import pyplot as plt\n",
      "import pandas as pd"
     ],
     "language": "python",
     "metadata": {},
     "outputs": [],
     "prompt_number": 10
    },
    {
     "cell_type": "markdown",
     "metadata": {},
     "source": [
      "\u0987\u09ae\u09aa\u09cb\u09b0\u09cd\u099f \u0995\u09b0\u09be \u09b9\u09b2 \u0986\u09ae\u09be\u09a6\u09c7\u09b0 \u09ae\u09c1\u09b2 \u09a8\u09be\u09df\u0995\u09a6\u09c7\u09b0, \u0986\u09b0 \u098f\u0987\u09ac\u09be\u09b0 \u0986\u09ae\u09bf \u09ae\u09cd\u09af\u09be\u099f\u09aa\u09cd\u09b2\u099f\u09b2\u09bf\u09ac\u09c7 ```plt.xkcd()``` \u0995\u09be\u09b0\u09cd\u099f\u09c1\u09a8 \u0986\u09a8\u099b\u09bf \u09a8\u09be\u0964 \u09a4\u09be\u0987 \u099a\u09bf\u09a4\u09cd\u09b0\u0997\u09c1\u09b2\u09cb \u098f\u0995\u099f\u09c1 \u09b8\u09bf\u09b0\u09bf\u09df\u09be\u09b8 \u0995\u09bf\u09b8\u09bf\u09ae\u09c7\u09b0 \u09b9\u09ac\u09c7 :/\n",
      "\n",
      "\u09aa\u09be\u09a8\u09cd\u09a1\u09be\u09b8\u09c7\u09b0 \u09b8\u09b9\u099c\u09a4\u09ae \u0995\u09be\u09a0\u09be\u09ae\u09cb \u09b9\u09b2 \u09b8\u09bf\u09b0\u09bf\u099c\u0964 \u098f\u099f\u09bf ndarray \u098f\u09b0 \u09ae\u09a4\u0987, \u0995\u09bf\u09a8\u09cd\u09a4\u09c1 \u098f\u0995\u099f\u09c1 \u09ac\u09c7\u09b6\u09bf \u0995\u09cd\u09b7\u09ae\u09a4\u09be\u09ac\u09be\u09a8\u0964"
     ]
    },
    {
     "cell_type": "code",
     "collapsed": false,
     "input": [
      "ser = pd.Series(np.random.randn(10)) # \u09a8\u09be\u09ae\u09aa\u09be\u0987 \u09ae\u09a8\u09c7 \u0986\u099b\u09c7? \u098f\u099f\u09bf \u09b9\u09b2 \u09e7\u09e6 \u09b0\u200d\u09cd\u09af\u09be\u09a8\u09cd\u09a1\u09ae \u09b8\u09a6\u09b8\u09cd\u09af\u09c7\u09b0 \u098f\u0995\u099f\u09bf \u0985\u09cd\u09af\u09be\u09b0\u09c7\u0964"
     ],
     "language": "python",
     "metadata": {},
     "outputs": [],
     "prompt_number": 8
    },
    {
     "cell_type": "markdown",
     "metadata": {},
     "source": [
      "\u09a4\u09cb \u0986\u09ae\u09be\u09a6\u09c7\u09b0 \u098f\u0987 \u09e7\u09e6 \u09b8\u09a6\u09b8\u09cd\u09af\u09c7\u09b0 \u098f\u0987 \u0985\u09cd\u09af\u09be\u09b0\u09c7\u099f\u09bf\u09b0 \u09ae\u09a7\u09cd\u09af\u09c7 \u098f\u09ae\u09a8 \u0995\u09bf \u0986\u099b\u09c7 \u09af\u09be ```map(random.random(), range(10))``` \u098f\u09b0 \u09a8\u09c7\u0987? \u0986\u09aa\u09be\u09a4\u09a6\u09c3\u09b7\u09cd\u099f\u09bf\u09a4\u09c7 \u09a4\u09c7\u09ae\u09a8 \u0995\u09bf\u099b\u09c1 \u09a8\u09be, \u0995\u09bf\u09a8\u09cd\u09a4\u09c1 \u09af\u09a6\u09bf \u0986\u09b0\u09c7\u0995\u09cd\u099f\u09c1 \u09a6\u09c7\u0996\u09bf-"
     ]
    },
    {
     "cell_type": "code",
     "collapsed": false,
     "input": [
      "ser_0 = pd.Series(range(10))\n",
      "ser_1 = pd.Series(np.random.randn(10), index=list(\"abcdefghij\"))\n",
      "ser_2 = pd.Series({\"Dhaka\": 42.0, \"Chittagong\": 36.0, \"Sylhet\": 29.0})"
     ],
     "language": "python",
     "metadata": {},
     "outputs": [],
     "prompt_number": 46
    },
    {
     "cell_type": "raw",
     "metadata": {},
     "source": [
      "\u0985\u09b0\u09cd\u09a5\u09be\u09ce \u0986\u09aa\u09a8\u09bf \u09b8\u09bf\u09b0\u09bf\u099c\u0995\u09c7 \u09ac\u09bf\u09ad\u09bf\u09a8\u09cd\u09a8\u09ad\u09be\u09ac\u09c7 \u09b6\u09c1\u09b0\u09c1 \u0995\u09b0\u09a4\u09c7 \u09aa\u09be\u09b0\u09ac\u09c7\u09a8\u0964 \u0986\u09b0 \u09b2\u09bf\u09b8\u09cd\u099f \u09ac\u09b2\u09c7\u09a8, ndarray \u09ac\u09b2\u09c7\u09a8 \u0986\u09b0 \u09a1\u09bf\u0995\u09b6\u09a8\u09be\u09b0\u09bf \u09ac\u09b2\u09c7\u09a8, \u09af\u09c7 \u0995\u09cb\u09a8\u09ad\u09be\u09ac\u09c7\u0987 \u0987\u09a8\u09bf\u09b8\u09bf\u09df\u09c7\u099f \u0995\u09b0\u09be \u09af\u09be\u09ac\u09c7\u0964 \u0986\u09b0 \u098f\u09b0 \u09b8\u09be\u09a5\u09c7 \u0987\u09a8\u09a1\u09c7\u0995\u09cd\u09b8 \u09b0\u09df\u09c7\u099b\u09c7 \u09af\u09be \u0986\u09aa\u09a8\u09be\u09b0 \u09b2\u09c1\u0995\u0986\u09aa\u09c7 \u09b8\u09b9\u09be\u09df\u0995 \u09b9\u09ac\u09c7\u0964 \n",
      "\n",
      "\u09b8\u09bf\u09b0\u09bf\u099c \u09a8\u09be\u09ae\u09aa\u09be\u0987 \u0985\u09cd\u09af\u09be\u09b0\u09c7 \u09b9\u09bf\u09b8\u09c7\u09ac\u09c7\u0993 \u0995\u09be\u099c \u0995\u09b0\u09ac\u09c7\u0964 \u09af\u09c7\u09ae\u09a8"
     ]
    },
    {
     "cell_type": "code",
     "collapsed": false,
     "input": [
      "ser_1[ser_1 < 0] # \u09b8\u09ae\u09b8\u09cd\u09a4 \u098b\u09a3\u09be\u09a4\u09cd\u09ae\u0995 \u09a8\u09be\u09ae\u09cd\u09ac\u09be\u09b0\u0964 "
     ],
     "language": "python",
     "metadata": {},
     "outputs": [
      {
       "output_type": "pyout",
       "prompt_number": 22,
       "text": [
        "a   -0.871457\n",
        "b   -0.222189\n",
        "d   -0.758087\n",
        "h   -1.208023\n",
        "dtype: float64"
       ]
      }
     ],
     "prompt_number": 22
    },
    {
     "cell_type": "code",
     "collapsed": false,
     "input": [
      "ser_2[[\"Dhaka\", \"Sylhet\"]] # \u09b6\u09c1\u09a7\u09c1 \u09a2\u09be\u0995\u09be \u0993 \u09b8\u09bf\u09b2\u09c7\u099f\u0964 "
     ],
     "language": "python",
     "metadata": {},
     "outputs": [
      {
       "output_type": "pyout",
       "prompt_number": 24,
       "text": [
        "Dhaka     42\n",
        "Sylhet    29\n",
        "dtype: float64"
       ]
      }
     ],
     "prompt_number": 24
    },
    {
     "cell_type": "markdown",
     "metadata": {},
     "source": [
      "\u0985\u09a8\u09c7\u0995\u099f\u09be \u099c\u09be\u09ad\u09be\u09b8\u09cd\u0995\u09cd\u09b0\u09bf\u09aa\u09cd\u099f\u09c7\u09b0 \u09ae\u09a4, ser_2.Dhaka \u0986\u09b0 ser_2[\"Dhaka\"] \u098f\u0995\u0987 \u0995\u09a5\u09be\u0964"
     ]
    },
    {
     "cell_type": "code",
     "collapsed": false,
     "input": [
      "assert ser_2.Dhaka == ser_2[\"Dhaka\"]\n",
      "print ser_1.a"
     ],
     "language": "python",
     "metadata": {},
     "outputs": [
      {
       "output_type": "stream",
       "stream": "stdout",
       "text": [
        "-0.87145665176\n"
       ]
      }
     ],
     "prompt_number": 26
    },
    {
     "cell_type": "markdown",
     "metadata": {},
     "source": [
      "\u098f\u09b8\u09be\u0987\u09a8\u09cd\u09ae\u09c7\u09a8\u09cd\u099f \u0995\u09b0\u09be \u0995\u09ae\u09a8 \u09b8\u09c7\u09a8\u09cd\u09b8\u09c7\u09b0 \u09ac\u09cd\u09af\u09be\u09aa\u09be\u09b0"
     ]
    },
    {
     "cell_type": "code",
     "collapsed": false,
     "input": [
      "ser_2.Sylhet = 30.0 # \u09b8\u09bf\u09b2\u09c7\u099f\u09c7\u09b0 \u09a4\u09be\u09aa\u09ae\u09be\u09a4\u09cd\u09b0\u09be \u09e7 \u09a1\u09bf\u0997\u09cd\u09b0\u09c0 \u09ac\u09be\u09dc\u09b2!\n",
      "print ser_2"
     ],
     "language": "python",
     "metadata": {},
     "outputs": [
      {
       "output_type": "stream",
       "stream": "stdout",
       "text": [
        "Chittagong    36\n",
        "Dhaka         42\n",
        "Sylhet        30\n",
        "dtype: float64\n"
       ]
      }
     ],
     "prompt_number": 29
    },
    {
     "cell_type": "markdown",
     "metadata": {},
     "source": [
      "\u09aa\u09cd\u09b2\u099f \u0995\u09b0\u09a4\u09c7 \u099a\u09be\u09a8? \u09af\u09c7\u09ad\u09be\u09ac\u09c7 \u0986\u09aa\u09a8\u09bf \u099a\u09bf\u09a8\u09cd\u09a4\u09be \u0995\u09b0\u099b\u09bf\u09b2\u09c7\u09a8 \u09b8\u09c7\u09ad\u09be\u09ac\u09c7\u0987 \u09b9\u09df!"
     ]
    },
    {
     "cell_type": "code",
     "collapsed": false,
     "input": [
      "ser_1.plot()"
     ],
     "language": "python",
     "metadata": {},
     "outputs": [
      {
       "output_type": "pyout",
       "prompt_number": 32,
       "text": [
        "<matplotlib.axes.AxesSubplot at 0xa6077cc>"
       ]
      },
      {
       "output_type": "display_data",
       "png": "[encoded data removed]"
      }
     ],
     "prompt_number": 32
    },
    {
     "cell_type": "markdown",
     "metadata": {},
     "source": [
      "\u09a1\u09bf\u09ab\u09b2\u09cd\u099f \u09aa\u09cd\u09b2\u099f\u09c7 \u0996\u09c1\u09b6\u09bf \u09a8\u09be? \u0986\u09aa\u09a8\u09bf \u09ae\u09cd\u09af\u09be\u099f\u09aa\u09b2\u09cd\u099f\u09b2\u09bf\u09ac\u09c7\u09b0 \u09ae\u09a4 \u09aa\u09cd\u09af\u09be\u09b0\u09be\u09ae\u09bf\u099f\u09be\u09b0 \u09aa\u09be\u09b8 \u0995\u09b0\u09a4\u09c7 \u09aa\u09be\u09b0\u09ac\u09c7\u09a8 \u09b8\u09b9\u099c\u09c7\u0987!"
     ]
    },
    {
     "cell_type": "code",
     "collapsed": false,
     "input": [
      "ser_2.plot(kind=\"barh\", color=\"orange\", alpha=0.6, legend=True, rot=30)"
     ],
     "language": "python",
     "metadata": {},
     "outputs": [
      {
       "output_type": "pyout",
       "prompt_number": 43,
       "text": [
        "<matplotlib.axes.AxesSubplot at 0xb4c57ac>"
       ]
      },
      {
       "output_type": "display_data",
       "png": "[encoded data removed]"
      }
     ],
     "prompt_number": 43
    },
    {
     "cell_type": "markdown",
     "metadata": {},
     "source": [
      "\u098f\u0995\u099f\u09be \u09b8\u09cd\u099f\u09be\u0987\u09b2 \u09ae\u09a8\u09c7 \u0986\u099b\u09c7? \u09a8\u09be\u09ae\u09aa\u09be\u0987\u09a4\u09c7 \u09af\u09c7 \u0986\u09aa\u09a8\u09bf \u098f\u0995\u099f\u09bf \u0985\u09aa\u09be\u09b0\u09c7\u09b6\u09be\u09a8 \u0995\u09b0\u09a4\u09c7\u09a8 \u0986\u09b0 \u0985\u0987 \u0985\u09cd\u09af\u09be\u09b0\u09c7 \u098f\u09b0 \u09b8\u09ae\u09b8\u09cd\u09a4 \u09b8\u09a6\u09b8\u09cd\u09af\u09b0\u09be \u09b8\u09c7 \u0985\u09aa\u09be\u09b0\u09c7\u09b6\u09be\u09a8 \u09aa\u09c7\u09a4? \u098f\u0995\u09c7 \u09ac\u09b2\u09be \u09b9\u09df \u09ac\u09cd\u09b0\u09a1\u0995\u09be\u09b8\u09cd\u099f\u09bf\u0982\u0964 \u09af\u09c7\u09ae\u09a8 \u0986\u09aa\u09a8\u09bf \u09af\u09a6\u09bf \u09ac\u09b2\u09c7\u09a8 ```arr = np.array([1,2,3]); arr = arr + 10``` \u09a4\u09be\u09b9\u09b2\u09c7 arr \u09b9\u09ac\u09c7 np.array([11, 12, 13])\u0964 \u098f\u0987 \u0985\u09ad\u09cd\u09af\u09be\u09b8\u099f\u09be \u09aa\u09be\u09a8\u09cd\u09a1\u09be\u09b8\u09c7\u09b0 \u09a1\u09be\u099f\u09be\u0997\u09c1\u09b2\u09bf\u09a4\u09c7\u0993 \u0986\u099b\u09c7\u0964 \u09a7\u09b0\u09c1\u09a8 \u09b8\u09ac\u09be\u09b0 \u09a4\u09be\u09aa\u09ae\u09be\u09a4\u09cd\u09b0\u09be \u09e9 \u09a1\u09bf\u0997\u09cd\u09b0\u09c0 \u0995\u09ae\u09c7 \u0997\u09c7\u09b2\u0964"
     ]
    },
    {
     "cell_type": "code",
     "collapsed": false,
     "input": [
      "ser_2 = ser_2 - 3.0 # \u09b8\u09ac\u09be\u0987 \u09aa\u09c7\u09df\u09c7\u099b\u09c7 \u09ae\u09be\u0987\u09a8\u09be\u09b8\u09c7\u09b0 \u09ae\u09c7\u09b8\u09c7\u099c, \u09a4\u09be\u0987 \u09b9\u09df\u09a4 \u098f\u0995\u09c7 \u09ac\u09cd\u09b0\u09a1\u0995\u09be\u09b8\u09cd\u099f \u09ac\u09b2\u09c7\u0964 \n",
      "print ser_2"
     ],
     "language": "python",
     "metadata": {},
     "outputs": [
      {
       "output_type": "stream",
       "stream": "stdout",
       "text": [
        "Chittagong    30\n",
        "Dhaka         36\n",
        "Sylhet        23\n",
        "dtype: float64\n"
       ]
      }
     ],
     "prompt_number": 51
    },
    {
     "cell_type": "markdown",
     "metadata": {},
     "source": [
      "\u0995\u09c7 \u0995\u09a4\u09ac\u09be\u09b0 \u0986\u099b\u09c7 \u099c\u09be\u09a8\u09a4\u09c7 \u099a\u09be\u09a8? \u09ac\u09cd\u09af\u09ac\u09b9\u09be\u09b0 \u0995\u09b0\u09c1\u09a8 value_counts \u0995\u09bf\u09a8\u09cd\u09a4\u09c1 \u09af\u09c7\u09b9\u09c7\u09a4\u09c1 \u0986\u09ae\u09be\u09a6\u09c7\u09b0 \u0986\u0997\u09c7\u09b0 \u09b8\u09bf\u09b0\u09bf\u099c\u0997\u09c1\u09b2\u09cb\u09a4\u09c7 \u0995\u09cb\u09a8 \u09b0\u09bf\u09aa\u09bf\u099f\u09c7\u09b6\u09a8 \u09a8\u09c7\u0987 \u09a4\u09be\u0987 \u09a8\u09a4\u09c1\u09a8 \u09b8\u09bf\u09b0\u09bf\u099c \u09a4\u09c8\u09b0\u09bf \u0995\u09b0\u09bf\u0964 \u0993\u09df\u09be\u09b0\u09cd\u09b2\u09cd\u09a1 \u0995\u09be\u09aa \u0997\u09cb\u09b2 \u09b8\u0982\u0996\u09cd\u09af\u09be \u09aa\u09be\u09b0\u09ab\u09c7\u0995\u09cd\u099f \u09b9\u09ac\u09c7 \u098f\u0996\u09be\u09a8\u09c7\u0964"
     ]
    },
    {
     "cell_type": "code",
     "collapsed": false,
     "input": [
      "data = dict(Klose=16,\n",
      "                Ronaldo=15,\n",
      "                Muller=14,\n",
      "                Fontaine=13,\n",
      "                Pele=12,\n",
      "                Klinsmann=11,\n",
      "                Kocsis=11,\n",
      "                Batistuta=10,\n",
      "                Cubillas=10,\n",
      "                Lato=10,\n",
      "                Lineker=10,\n",
      "                TMuller=10,\n",
      "                Rahn=10)\n",
      "ser = pd.Series(data)"
     ],
     "language": "python",
     "metadata": {},
     "outputs": [],
     "prompt_number": 22
    },
    {
     "cell_type": "markdown",
     "metadata": {},
     "source": [
      "\u09a6\u09c7\u0996\u09be \u09af\u09be\u0995 \u0986\u0997\u09c7 \u098f\u09a6\u09c7\u09b0 \u09aa\u09cd\u09b0\u09bf\u09a8\u09cd\u099f\u09c7 \u0995\u09c7\u09ae\u09a8 \u09b2\u09be\u0997\u09c7 \u0986\u09b0 \u0985\u09a4\u0983\u09aa\u09b0 \u0997\u09cd\u09b0\u09be\u09ab\u09c7 \u0995\u09c7\u09ae\u09a8 \u09b2\u09be\u0997\u09c7\u0964"
     ]
    },
    {
     "cell_type": "code",
     "collapsed": false,
     "input": [
      "print ser"
     ],
     "language": "python",
     "metadata": {},
     "outputs": [
      {
       "output_type": "stream",
       "stream": "stdout",
       "text": [
        "Batistuta    10\n",
        "Cubillas     10\n",
        "Fontaine     13\n",
        "Klinsmann    11\n",
        "Klose        16\n",
        "Kocsis       11\n",
        "Lato         10\n",
        "Lineker      10\n",
        "Muller       14\n",
        "Pele         12\n",
        "Rahn         10\n",
        "Ronaldo      15\n",
        "TMuller      10\n",
        "dtype: int64\n"
       ]
      }
     ],
     "prompt_number": 29
    },
    {
     "cell_type": "code",
     "collapsed": false,
     "input": [
      "print ser.value_counts()"
     ],
     "language": "python",
     "metadata": {},
     "outputs": [
      {
       "output_type": "stream",
       "stream": "stdout",
       "text": [
        "10    6\n",
        "11    2\n",
        "15    1\n",
        "14    1\n",
        "13    1\n",
        "12    1\n",
        "16    1\n",
        "dtype: int64\n"
       ]
      }
     ],
     "prompt_number": 30
    },
    {
     "cell_type": "code",
     "collapsed": false,
     "input": [
      "figure = plt.figure()\n",
      "\n",
      "ax_1 = figure.add_subplot(2, 1, 1)\n",
      "ax_2 = figure.add_subplot(2, 1, 2)\n",
      "\n",
      "ser.plot(ax=ax_1, linestyle=\"--\", marker=\"o\", color=\"black\")\n",
      "ser.value_counts().plot(ax=ax_2, kind=\"bar\", color=\"green\", alpha=0.7)"
     ],
     "language": "python",
     "metadata": {},
     "outputs": [
      {
       "output_type": "pyout",
       "prompt_number": 34,
       "text": [
        "<matplotlib.axes.AxesSubplot at 0xc7f06ac>"
       ]
      },
      {
       "output_type": "display_data",
       "png": "[encoded data removed]"
      }
     ],
     "prompt_number": 34
    },
    {
     "cell_type": "markdown",
     "metadata": {},
     "source": [
      "\u09aa\u09be\u09a8\u09cd\u09a1\u09be\u09b8\u09c7\u09b0 \u09aa\u09cd\u09b0\u09a5\u09ae \u098f\u09ac\u0982 \u09b8\u09b9\u099c\u09a4\u09ae \u0989\u09aa\u09be\u09a4\u09cd\u09a4 \u0995\u09be\u09a0\u09be\u09ae\u09cb \u09b8\u09bf\u09b0\u09bf\u099c \u09a8\u09bf\u09df\u09c7 \u098f\u0987 \u099b\u09cb\u099f \u0986\u09b2\u09cb\u099a\u09a8\u09be \u09b8\u09ae\u09be\u09aa\u09cd\u09a4 \u0995\u09b0\u09c7 \u09aa\u09b0\u09ac\u09b0\u09cd\u09a4\u09c0 \u0995\u09be\u09a0\u09be\u09ae\u09cb \u09a1\u09be\u099f\u09be\u09ab\u09cd\u09b0\u09c7\u09ae \u09a8\u09bf\u09df\u09c7 \u0995\u09a5\u09be \u09ac\u09b2\u09ac \u098f\u09b0 \u09aa\u09b0\u09c7\u09b0 \u09aa\u09cb\u09b8\u09cd\u099f\u09c7\u0964 \u09b8\u09cd\u099f\u09c7 \u099f\u09c1\u09a8\u09cd\u09a1!!!"
     ]
    }
   ],
   "metadata": {}
  }
 ]
}